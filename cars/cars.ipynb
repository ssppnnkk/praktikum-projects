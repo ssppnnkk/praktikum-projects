{
 "cells": [
  {
   "cell_type": "markdown",
   "metadata": {},
   "source": [
    "# 1. Подготовка данных"
   ]
  },
  {
   "cell_type": "code",
   "execution_count": 1,
   "metadata": {},
   "outputs": [
    {
     "name": "stdout",
     "output_type": "stream",
     "text": [
      "           DateCrawled  Price VehicleType  RegistrationYear Gearbox  Power  \\\n",
      "0  2016-03-24 11:52:17    480         NaN              1993  manual      0   \n",
      "1  2016-03-24 10:58:45  18300       coupe              2011  manual    190   \n",
      "2  2016-03-14 12:52:21   9800         suv              2004    auto    163   \n",
      "3  2016-03-17 16:54:04   1500       small              2001  manual     75   \n",
      "4  2016-03-31 17:25:20   3600       small              2008  manual     69   \n",
      "\n",
      "   Model  Kilometer  RegistrationMonth  FuelType       Brand NotRepaired  \\\n",
      "0   golf     150000                  0    petrol  volkswagen         NaN   \n",
      "1    NaN     125000                  5  gasoline        audi         yes   \n",
      "2  grand     125000                  8  gasoline        jeep         NaN   \n",
      "3   golf     150000                  6    petrol  volkswagen          no   \n",
      "4  fabia      90000                  7  gasoline       skoda          no   \n",
      "\n",
      "           DateCreated  NumberOfPictures  PostalCode             LastSeen  \n",
      "0  2016-03-24 00:00:00                 0       70435  2016-04-07 03:16:57  \n",
      "1  2016-03-24 00:00:00                 0       66954  2016-04-07 01:46:50  \n",
      "2  2016-03-14 00:00:00                 0       90480  2016-04-05 12:47:46  \n",
      "3  2016-03-17 00:00:00                 0       91074  2016-03-17 17:40:17  \n",
      "4  2016-03-31 00:00:00                 0       60437  2016-04-06 10:17:21  \n",
      "\n",
      "<class 'pandas.core.frame.DataFrame'>\n",
      "RangeIndex: 354369 entries, 0 to 354368\n",
      "Data columns (total 16 columns):\n",
      "DateCrawled          354369 non-null object\n",
      "Price                354369 non-null int64\n",
      "VehicleType          316879 non-null object\n",
      "RegistrationYear     354369 non-null int64\n",
      "Gearbox              334536 non-null object\n",
      "Power                354369 non-null int64\n",
      "Model                334664 non-null object\n",
      "Kilometer            354369 non-null int64\n",
      "RegistrationMonth    354369 non-null int64\n",
      "FuelType             321474 non-null object\n",
      "Brand                354369 non-null object\n",
      "NotRepaired          283215 non-null object\n",
      "DateCreated          354369 non-null object\n",
      "NumberOfPictures     354369 non-null int64\n",
      "PostalCode           354369 non-null int64\n",
      "LastSeen             354369 non-null object\n",
      "dtypes: int64(7), object(9)\n",
      "memory usage: 43.3+ MB\n",
      "None\n"
     ]
    }
   ],
   "source": [
    "import pandas as pd\n",
    "from sklearn.model_selection import train_test_split\n",
    "from sklearn.metrics import mean_squared_error\n",
    "from catboost import CatBoostRegressor\n",
    "import lightgbm as lgb\n",
    "\n",
    "data = pd.read_csv('/datasets/autos.csv')\n",
    "\n",
    "\n",
    "print(data.head())\n",
    "print()\n",
    "print(data.info())"
   ]
  },
  {
   "cell_type": "markdown",
   "metadata": {},
   "source": [
    "Данные загружены. Для дальнейшей работы необходимо обработать пропуски. Сделаем 2 датасета для каждого типа моделей."
   ]
  },
  {
   "cell_type": "code",
   "execution_count": 2,
   "metadata": {},
   "outputs": [],
   "source": [
    "# удалим неинформативные признаки\n",
    "data=data.drop(['DateCrawled','DateCreated','NumberOfPictures','PostalCode','LastSeen'],axis=1)\n",
    "data1=data"
   ]
  },
  {
   "cell_type": "code",
   "execution_count": 3,
   "metadata": {},
   "outputs": [
    {
     "name": "stdout",
     "output_type": "stream",
     "text": [
      "   Price VehicleType  RegistrationYear Gearbox  Power  Model  Kilometer  \\\n",
      "0    480                          1993  manual      0   golf     150000   \n",
      "1  18300       coupe              2011  manual    190            125000   \n",
      "2   9800         suv              2004    auto    163  grand     125000   \n",
      "3   1500       small              2001  manual     75   golf     150000   \n",
      "4   3600       small              2008  manual     69  fabia      90000   \n",
      "\n",
      "   RegistrationMonth  FuelType       Brand NotRepaired  \n",
      "0                  0    petrol  volkswagen              \n",
      "1                  5  gasoline        audi         yes  \n",
      "2                  8  gasoline        jeep              \n",
      "3                  6    petrol  volkswagen          no  \n",
      "4                  7  gasoline       skoda          no  \n",
      "\n",
      "<class 'pandas.core.frame.DataFrame'>\n",
      "RangeIndex: 354369 entries, 0 to 354368\n",
      "Data columns (total 11 columns):\n",
      "Price                354369 non-null int64\n",
      "VehicleType          354369 non-null object\n",
      "RegistrationYear     354369 non-null int64\n",
      "Gearbox              354369 non-null object\n",
      "Power                354369 non-null int64\n",
      "Model                354369 non-null object\n",
      "Kilometer            354369 non-null int64\n",
      "RegistrationMonth    354369 non-null int64\n",
      "FuelType             354369 non-null object\n",
      "Brand                354369 non-null object\n",
      "NotRepaired          354369 non-null object\n",
      "dtypes: int64(5), object(6)\n",
      "memory usage: 29.7+ MB\n",
      "None\n"
     ]
    }
   ],
   "source": [
    "data = data.fillna('')\n",
    "print(data.head())\n",
    "print()\n",
    "print(data.info())"
   ]
  },
  {
   "cell_type": "markdown",
   "metadata": {},
   "source": [
    "Пропуски обработаны для работы с catboost. NaN заменены на ''."
   ]
  },
  {
   "cell_type": "code",
   "execution_count": 4,
   "metadata": {},
   "outputs": [],
   "source": [
    "# разобьем данные на выборки\n",
    "data_valid_train, data_test = train_test_split(data, test_size=0.2, random_state=12345)\n",
    "data_train, data_valid = train_test_split(data_valid_train, test_size=0.25, random_state=12345)\n",
    "\n",
    "features_train = data_train.drop(['Price'], axis=1)\n",
    "target_train = data_train['Price']\n",
    "features_test = data_test.drop(['Price'], axis=1)\n",
    "target_test = data_test['Price']\n",
    "features_valid = data_valid.drop(['Price'], axis=1)\n",
    "target_valid = data_valid['Price']\n",
    "\n",
    "\n",
    "\n",
    "\n",
    "cat_features = ['VehicleType', 'Gearbox', 'Model',\n",
    "                'FuelType', 'Brand', 'NotRepaired']"
   ]
  },
  {
   "cell_type": "markdown",
   "metadata": {},
   "source": [
    "Данные разбиты на 3 части в пропорции 3:1:1 (обучающая, валидационная, тестовая). Заданы признаки и целевые признаки.(для catboost)"
   ]
  },
  {
   "cell_type": "code",
   "execution_count": 5,
   "metadata": {},
   "outputs": [
    {
     "name": "stdout",
     "output_type": "stream",
     "text": [
      "<class 'pandas.core.frame.DataFrame'>\n",
      "RangeIndex: 354369 entries, 0 to 354368\n",
      "Data columns (total 11 columns):\n",
      "Price                354369 non-null int64\n",
      "VehicleType          316879 non-null category\n",
      "RegistrationYear     354369 non-null int64\n",
      "Gearbox              334536 non-null category\n",
      "Power                354369 non-null int64\n",
      "Model                334664 non-null category\n",
      "Kilometer            354369 non-null int64\n",
      "RegistrationMonth    354369 non-null int64\n",
      "FuelType             321474 non-null category\n",
      "Brand                354369 non-null category\n",
      "NotRepaired          283215 non-null category\n",
      "dtypes: category(6), int64(5)\n",
      "memory usage: 15.9 MB\n",
      "None\n"
     ]
    }
   ],
   "source": [
    "for c in data1.columns:\n",
    "    col_type = data1[c].dtype\n",
    "    if col_type == 'object' or col_type.name == 'category':\n",
    "        data1[c] = data1[c].astype('category')\n",
    "\n",
    "        \n",
    "print(data1.info())"
   ]
  },
  {
   "cell_type": "markdown",
   "metadata": {},
   "source": [
    "Данные обработаны для работы с lightgbm. Все не количественные переменные приведены к типу category."
   ]
  },
  {
   "cell_type": "code",
   "execution_count": 6,
   "metadata": {},
   "outputs": [],
   "source": [
    "data_valid_train1, data_test1 = train_test_split(data1, test_size=0.2, random_state=12345)\n",
    "data_train1, data_valid1 = train_test_split(data_valid_train1, test_size=0.25, random_state=12345)\n",
    "\n",
    "features_train1 = data_train1.drop(['Price'], axis=1)\n",
    "target_train1 = data_train1['Price']\n",
    "features_test1 = data_test1.drop(['Price'], axis=1)\n",
    "target_test1 = data_test1['Price']\n",
    "features_valid1 = data_valid1.drop(['Price'], axis=1)\n",
    "target_valid1 = data_valid1['Price']\n"
   ]
  },
  {
   "cell_type": "markdown",
   "metadata": {},
   "source": [
    "Данные разбиты на 3 части в пропорции 3:1:1 (обучающая, валидационная, тестовая). Заданы признаки и целевые признаки.(для lightgbm)"
   ]
  },
  {
   "cell_type": "markdown",
   "metadata": {},
   "source": [
    "# 2. Обучение моделей"
   ]
  },
  {
   "cell_type": "code",
   "execution_count": 7,
   "metadata": {},
   "outputs": [],
   "source": [
    "model1 = CatBoostRegressor(loss_function=\"RMSE\", iterations=50, depth=4)\n",
    "model2 = CatBoostRegressor(loss_function=\"RMSE\", iterations=100, depth=6)\n",
    "model3 = CatBoostRegressor(loss_function=\"RMSE\", iterations=150, depth=10)\n",
    "model4 = CatBoostRegressor(loss_function=\"RMSE\", iterations=200, depth=12)\n",
    "\n",
    "model5 = lgb.LGBMRegressor(metric='RMSE',num_iterations=50, max_depth=4)\n",
    "model6 = lgb.LGBMRegressor(metric='RMSE',num_iterations=100, max_depth=6)\n",
    "model7 = lgb.LGBMRegressor(metric='RMSE',num_iterations=150, max_depth=10)\n",
    "model8 = lgb.LGBMRegressor(metric='RMSE',num_iterations=200, max_depth=12)"
   ]
  },
  {
   "cell_type": "markdown",
   "metadata": {},
   "source": [
    "Обучено 8 моделей со схожими гиперпараметрами, по 4 на lightgbm и catboost."
   ]
  },
  {
   "cell_type": "markdown",
   "metadata": {},
   "source": [
    "# 3. Анализ моделей"
   ]
  },
  {
   "cell_type": "code",
   "execution_count": 8,
   "metadata": {},
   "outputs": [
    {
     "name": "stdout",
     "output_type": "stream",
     "text": [
      "0:\tlearn: 4440.3247085\ttotal: 417ms\tremaining: 20.4s\n",
      "10:\tlearn: 3812.4100363\ttotal: 3s\tremaining: 10.6s\n",
      "20:\tlearn: 3381.4800970\ttotal: 5.38s\tremaining: 7.43s\n",
      "30:\tlearn: 3081.2157822\ttotal: 7.76s\tremaining: 4.76s\n",
      "40:\tlearn: 2864.9652541\ttotal: 10.1s\tremaining: 2.23s\n",
      "49:\tlearn: 2715.1855265\ttotal: 12.3s\tremaining: 0us\n",
      "CPU times: user 11.5 s, sys: 1.68 s, total: 13.2 s\n",
      "Wall time: 16.2 s\n"
     ]
    },
    {
     "data": {
      "text/plain": [
       "<catboost.core.CatBoostRegressor at 0x7f7cfa8af790>"
      ]
     },
     "execution_count": 8,
     "metadata": {},
     "output_type": "execute_result"
    }
   ],
   "source": [
    "%%time\n",
    "model1.fit(features_train, target_train, cat_features=cat_features, verbose=10)"
   ]
  },
  {
   "cell_type": "code",
   "execution_count": 9,
   "metadata": {},
   "outputs": [
    {
     "name": "stdout",
     "output_type": "stream",
     "text": [
      "CPU times: user 188 ms, sys: 8 ms, total: 196 ms\n",
      "Wall time: 154 ms\n"
     ]
    }
   ],
   "source": [
    "%%time\n",
    "predicted_valid = model1.predict(features_valid)"
   ]
  },
  {
   "cell_type": "code",
   "execution_count": 10,
   "metadata": {},
   "outputs": [
    {
     "name": "stdout",
     "output_type": "stream",
     "text": [
      "CatBoostRegressor,iterations=50, depth=4\n",
      "RMSE = 2699.8074389536773\n"
     ]
    }
   ],
   "source": [
    "mse = mean_squared_error(target_valid, predicted_valid)\n",
    "rmse1= mse ** 0.5\n",
    "print(\"CatBoostRegressor,iterations=50, depth=4\")\n",
    "print(\"RMSE =\",rmse1)"
   ]
  },
  {
   "cell_type": "code",
   "execution_count": 11,
   "metadata": {},
   "outputs": [
    {
     "name": "stdout",
     "output_type": "stream",
     "text": [
      "0:\tlearn: 4432.0365296\ttotal: 457ms\tremaining: 45.2s\n",
      "10:\tlearn: 3732.2992369\ttotal: 4.04s\tremaining: 32.7s\n",
      "20:\tlearn: 3252.3260608\ttotal: 7.31s\tremaining: 27.5s\n",
      "30:\tlearn: 2925.6542885\ttotal: 10.6s\tremaining: 23.6s\n",
      "40:\tlearn: 2690.6311857\ttotal: 13.8s\tremaining: 19.8s\n",
      "50:\tlearn: 2521.5831692\ttotal: 17s\tremaining: 16.3s\n",
      "60:\tlearn: 2407.5477709\ttotal: 20.1s\tremaining: 12.9s\n",
      "70:\tlearn: 2322.3379662\ttotal: 23.5s\tremaining: 9.6s\n",
      "80:\tlearn: 2252.0919285\ttotal: 26.7s\tremaining: 6.26s\n",
      "90:\tlearn: 2195.5697783\ttotal: 29.8s\tremaining: 2.94s\n",
      "99:\tlearn: 2160.2484400\ttotal: 32.8s\tremaining: 0us\n",
      "CPU times: user 30 s, sys: 3.72 s, total: 33.7 s\n",
      "Wall time: 38.8 s\n"
     ]
    },
    {
     "data": {
      "text/plain": [
       "<catboost.core.CatBoostRegressor at 0x7f7cfa8af750>"
      ]
     },
     "execution_count": 11,
     "metadata": {},
     "output_type": "execute_result"
    }
   ],
   "source": [
    "%%time\n",
    "model2.fit(features_train, target_train, cat_features=cat_features, verbose=10)"
   ]
  },
  {
   "cell_type": "code",
   "execution_count": 12,
   "metadata": {},
   "outputs": [
    {
     "name": "stdout",
     "output_type": "stream",
     "text": [
      "CPU times: user 208 ms, sys: 24 ms, total: 232 ms\n",
      "Wall time: 205 ms\n"
     ]
    }
   ],
   "source": [
    "%%time\n",
    "predicted_valid = model2.predict(features_valid)"
   ]
  },
  {
   "cell_type": "code",
   "execution_count": 13,
   "metadata": {},
   "outputs": [
    {
     "name": "stdout",
     "output_type": "stream",
     "text": [
      "CatBoostRegressor, iterations=100, depth=6\n",
      "RMSE = 2134.7543453588305\n"
     ]
    }
   ],
   "source": [
    "mse = mean_squared_error(target_valid, predicted_valid)\n",
    "rmse2= mse ** 0.5\n",
    "print(\"CatBoostRegressor, iterations=100, depth=6\")\n",
    "print(\"RMSE =\",rmse2)"
   ]
  },
  {
   "cell_type": "code",
   "execution_count": 14,
   "metadata": {},
   "outputs": [
    {
     "name": "stdout",
     "output_type": "stream",
     "text": [
      "0:\tlearn: 4425.4604998\ttotal: 559ms\tremaining: 1m 23s\n",
      "10:\tlearn: 3663.4085248\ttotal: 5.54s\tremaining: 1m 9s\n",
      "20:\tlearn: 3138.9000010\ttotal: 10.3s\tremaining: 1m 3s\n",
      "30:\tlearn: 2788.6572721\ttotal: 15.2s\tremaining: 58.3s\n",
      "40:\tlearn: 2533.2533354\ttotal: 20s\tremaining: 53.1s\n",
      "50:\tlearn: 2354.0484642\ttotal: 24.9s\tremaining: 48.3s\n",
      "60:\tlearn: 2237.5541540\ttotal: 29.7s\tremaining: 43.4s\n",
      "70:\tlearn: 2148.3761284\ttotal: 34.5s\tremaining: 38.4s\n",
      "80:\tlearn: 2076.2072429\ttotal: 39.2s\tremaining: 33.4s\n",
      "90:\tlearn: 2025.6636814\ttotal: 44.1s\tremaining: 28.6s\n",
      "100:\tlearn: 1991.1845046\ttotal: 49s\tremaining: 23.7s\n",
      "110:\tlearn: 1965.1552908\ttotal: 53.8s\tremaining: 18.9s\n",
      "120:\tlearn: 1944.2796526\ttotal: 58.6s\tremaining: 14s\n",
      "130:\tlearn: 1927.4119954\ttotal: 1m 3s\tremaining: 9.21s\n",
      "140:\tlearn: 1913.7536778\ttotal: 1m 8s\tremaining: 4.36s\n",
      "149:\tlearn: 1904.1232325\ttotal: 1m 12s\tremaining: 0us\n",
      "CPU times: user 1min 7s, sys: 6.03 s, total: 1min 13s\n",
      "Wall time: 1min 18s\n"
     ]
    },
    {
     "data": {
      "text/plain": [
       "<catboost.core.CatBoostRegressor at 0x7f7cfa8af7d0>"
      ]
     },
     "execution_count": 14,
     "metadata": {},
     "output_type": "execute_result"
    }
   ],
   "source": [
    "%%time\n",
    "model3.fit(features_train, target_train, cat_features=cat_features, verbose=10)"
   ]
  },
  {
   "cell_type": "code",
   "execution_count": 15,
   "metadata": {},
   "outputs": [
    {
     "name": "stdout",
     "output_type": "stream",
     "text": [
      "CPU times: user 284 ms, sys: 20 ms, total: 304 ms\n",
      "Wall time: 301 ms\n"
     ]
    }
   ],
   "source": [
    "%%time\n",
    "predicted_valid = model3.predict(features_valid)"
   ]
  },
  {
   "cell_type": "code",
   "execution_count": 16,
   "metadata": {},
   "outputs": [
    {
     "name": "stdout",
     "output_type": "stream",
     "text": [
      "CatBoostRegressor, iterations=150, depth=10\n",
      "RMSE = 1892.9573468039723\n"
     ]
    }
   ],
   "source": [
    "mse = mean_squared_error(target_valid, predicted_valid)\n",
    "rmse3= mse ** 0.5\n",
    "print(\"CatBoostRegressor, iterations=150, depth=10\")\n",
    "print(\"RMSE =\", rmse3)"
   ]
  },
  {
   "cell_type": "code",
   "execution_count": 17,
   "metadata": {},
   "outputs": [
    {
     "name": "stdout",
     "output_type": "stream",
     "text": [
      "0:\tlearn: 4419.5897300\ttotal: 2.13s\tremaining: 7m 4s\n",
      "10:\tlearn: 3619.6576624\ttotal: 21.4s\tremaining: 6m 7s\n",
      "20:\tlearn: 3062.3802725\ttotal: 40.1s\tremaining: 5m 41s\n",
      "30:\tlearn: 2682.7764213\ttotal: 59.5s\tremaining: 5m 24s\n",
      "40:\tlearn: 2420.6509991\ttotal: 1m 18s\tremaining: 5m 4s\n",
      "50:\tlearn: 2248.3647477\ttotal: 1m 38s\tremaining: 4m 48s\n",
      "60:\tlearn: 2124.6494697\ttotal: 1m 57s\tremaining: 4m 28s\n",
      "70:\tlearn: 2039.5722928\ttotal: 2m 18s\tremaining: 4m 11s\n",
      "80:\tlearn: 1978.3109977\ttotal: 2m 38s\tremaining: 3m 53s\n",
      "90:\tlearn: 1930.2331287\ttotal: 3m\tremaining: 3m 35s\n",
      "100:\tlearn: 1895.1171304\ttotal: 3m 22s\tremaining: 3m 18s\n",
      "110:\tlearn: 1868.8457590\ttotal: 3m 43s\tremaining: 2m 59s\n",
      "120:\tlearn: 1848.2504550\ttotal: 4m 3s\tremaining: 2m 39s\n",
      "130:\tlearn: 1832.6005158\ttotal: 4m 23s\tremaining: 2m 19s\n",
      "140:\tlearn: 1819.1051382\ttotal: 4m 43s\tremaining: 1m 58s\n",
      "150:\tlearn: 1808.1081579\ttotal: 5m 4s\tremaining: 1m 38s\n",
      "160:\tlearn: 1797.8650766\ttotal: 5m 25s\tremaining: 1m 18s\n",
      "170:\tlearn: 1788.4269901\ttotal: 5m 46s\tremaining: 58.8s\n",
      "180:\tlearn: 1779.2263116\ttotal: 6m 7s\tremaining: 38.6s\n",
      "190:\tlearn: 1771.4257621\ttotal: 6m 28s\tremaining: 18.3s\n",
      "199:\tlearn: 1763.4166749\ttotal: 6m 47s\tremaining: 0us\n",
      "CPU times: user 6min 22s, sys: 26.6 s, total: 6min 48s\n",
      "Wall time: 6min 52s\n"
     ]
    },
    {
     "data": {
      "text/plain": [
       "<catboost.core.CatBoostRegressor at 0x7f7cfa8af890>"
      ]
     },
     "execution_count": 17,
     "metadata": {},
     "output_type": "execute_result"
    }
   ],
   "source": [
    "%%time\n",
    "model4.fit(features_train, target_train, cat_features=cat_features, verbose=10)"
   ]
  },
  {
   "cell_type": "code",
   "execution_count": 18,
   "metadata": {},
   "outputs": [
    {
     "name": "stdout",
     "output_type": "stream",
     "text": [
      "CPU times: user 508 ms, sys: 12 ms, total: 520 ms\n",
      "Wall time: 506 ms\n"
     ]
    }
   ],
   "source": [
    "%%time\n",
    "predicted_valid = model4.predict(features_valid)"
   ]
  },
  {
   "cell_type": "code",
   "execution_count": 19,
   "metadata": {},
   "outputs": [
    {
     "name": "stdout",
     "output_type": "stream",
     "text": [
      "CatBoostRegressor, iterations=200, depth=12\n",
      "RMSE = 1800.2696823078218\n"
     ]
    }
   ],
   "source": [
    "mse = mean_squared_error(target_valid, predicted_valid)\n",
    "rmse4= mse ** 0.5\n",
    "print(\"CatBoostRegressor, iterations=200, depth=12\")\n",
    "print(\"RMSE =\",rmse4)"
   ]
  },
  {
   "cell_type": "markdown",
   "metadata": {},
   "source": [
    "Наименьшее значение RMSE у модели4, у неё же самое большое время обучения и предсказания.\n",
    "ЛУчше использовать модель 3: она менее точная, но работает гораздо быстрее модели4."
   ]
  },
  {
   "cell_type": "code",
   "execution_count": 20,
   "metadata": {},
   "outputs": [
    {
     "name": "stderr",
     "output_type": "stream",
     "text": [
      "/opt/conda/lib/python3.7/site-packages/lightgbm/engine.py:148: UserWarning: Found `num_iterations` in params. Will use it instead of argument\n",
      "  warnings.warn(\"Found `{}` in params. Will use it instead of argument\".format(alias))\n"
     ]
    },
    {
     "name": "stdout",
     "output_type": "stream",
     "text": [
      "[10]\tvalid_0's rmse: 2796.31\n",
      "[20]\tvalid_0's rmse: 2241.42\n",
      "[30]\tvalid_0's rmse: 2042.49\n",
      "[40]\tvalid_0's rmse: 1952.51\n",
      "[50]\tvalid_0's rmse: 1912.54\n",
      "CPU times: user 4.22 s, sys: 20 ms, total: 4.24 s\n",
      "Wall time: 4.28 s\n"
     ]
    },
    {
     "data": {
      "text/plain": [
       "LGBMRegressor(boosting_type='gbdt', class_weight=None, colsample_bytree=1.0,\n",
       "              importance_type='split', learning_rate=0.1, max_depth=4,\n",
       "              metric='RMSE', min_child_samples=20, min_child_weight=0.001,\n",
       "              min_split_gain=0.0, n_estimators=100, n_jobs=-1,\n",
       "              num_iterations=50, num_leaves=31, objective=None,\n",
       "              random_state=None, reg_alpha=0.0, reg_lambda=0.0, silent=True,\n",
       "              subsample=1.0, subsample_for_bin=200000, subsample_freq=0)"
      ]
     },
     "execution_count": 20,
     "metadata": {},
     "output_type": "execute_result"
    }
   ],
   "source": [
    "%%time\n",
    "model5.fit(features_train1, target_train1,eval_set=[(features_valid1, target_valid1)],verbose=10)"
   ]
  },
  {
   "cell_type": "code",
   "execution_count": 21,
   "metadata": {},
   "outputs": [
    {
     "name": "stdout",
     "output_type": "stream",
     "text": [
      "CPU times: user 396 ms, sys: 8 ms, total: 404 ms\n",
      "Wall time: 394 ms\n"
     ]
    }
   ],
   "source": [
    "%%time\n",
    "predicted_valid = model5.predict(features_valid1)"
   ]
  },
  {
   "cell_type": "code",
   "execution_count": 22,
   "metadata": {},
   "outputs": [
    {
     "name": "stdout",
     "output_type": "stream",
     "text": [
      "LGBMRegressor, iterations=50, depth=4\n",
      "RMSE = 1912.5419530611339\n"
     ]
    }
   ],
   "source": [
    "mse = mean_squared_error(target_valid1, predicted_valid)\n",
    "rmse5= mse ** 0.5\n",
    "print(\"LGBMRegressor, iterations=50, depth=4\")\n",
    "print(\"RMSE =\", rmse5)\n"
   ]
  },
  {
   "cell_type": "code",
   "execution_count": 23,
   "metadata": {},
   "outputs": [
    {
     "name": "stderr",
     "output_type": "stream",
     "text": [
      "/opt/conda/lib/python3.7/site-packages/lightgbm/engine.py:148: UserWarning: Found `num_iterations` in params. Will use it instead of argument\n",
      "  warnings.warn(\"Found `{}` in params. Will use it instead of argument\".format(alias))\n"
     ]
    },
    {
     "name": "stdout",
     "output_type": "stream",
     "text": [
      "[10]\tvalid_0's rmse: 2621.36\n",
      "[20]\tvalid_0's rmse: 2075.04\n",
      "[30]\tvalid_0's rmse: 1907.09\n",
      "[40]\tvalid_0's rmse: 1846.37\n",
      "[50]\tvalid_0's rmse: 1818.93\n",
      "[60]\tvalid_0's rmse: 1798.5\n",
      "[70]\tvalid_0's rmse: 1786.71\n",
      "[80]\tvalid_0's rmse: 1776.85\n",
      "[90]\tvalid_0's rmse: 1768.98\n",
      "[100]\tvalid_0's rmse: 1763.59\n",
      "CPU times: user 9.08 s, sys: 0 ns, total: 9.08 s\n",
      "Wall time: 9.17 s\n"
     ]
    },
    {
     "data": {
      "text/plain": [
       "LGBMRegressor(boosting_type='gbdt', class_weight=None, colsample_bytree=1.0,\n",
       "              importance_type='split', learning_rate=0.1, max_depth=6,\n",
       "              metric='RMSE', min_child_samples=20, min_child_weight=0.001,\n",
       "              min_split_gain=0.0, n_estimators=100, n_jobs=-1,\n",
       "              num_iterations=100, num_leaves=31, objective=None,\n",
       "              random_state=None, reg_alpha=0.0, reg_lambda=0.0, silent=True,\n",
       "              subsample=1.0, subsample_for_bin=200000, subsample_freq=0)"
      ]
     },
     "execution_count": 23,
     "metadata": {},
     "output_type": "execute_result"
    }
   ],
   "source": [
    "%%time\n",
    "model6.fit(features_train1, target_train1,eval_set=[(features_valid1, target_valid1)],verbose=10)"
   ]
  },
  {
   "cell_type": "code",
   "execution_count": 24,
   "metadata": {},
   "outputs": [
    {
     "name": "stdout",
     "output_type": "stream",
     "text": [
      "CPU times: user 1.06 s, sys: 0 ns, total: 1.06 s\n",
      "Wall time: 1.09 s\n"
     ]
    }
   ],
   "source": [
    "%%time\n",
    "predicted_valid = model6.predict(features_valid1)"
   ]
  },
  {
   "cell_type": "code",
   "execution_count": 25,
   "metadata": {},
   "outputs": [
    {
     "name": "stdout",
     "output_type": "stream",
     "text": [
      "LGBMRegressor, iterations=100, depth=6\n",
      "RMSE = 1763.5942221969635\n"
     ]
    }
   ],
   "source": [
    "mse = mean_squared_error(target_valid1, predicted_valid)\n",
    "rmse6= mse ** 0.5\n",
    "print(\"LGBMRegressor, iterations=100, depth=6\")\n",
    "print(\"RMSE =\", rmse6)"
   ]
  },
  {
   "cell_type": "code",
   "execution_count": 26,
   "metadata": {},
   "outputs": [
    {
     "name": "stderr",
     "output_type": "stream",
     "text": [
      "/opt/conda/lib/python3.7/site-packages/lightgbm/engine.py:148: UserWarning: Found `num_iterations` in params. Will use it instead of argument\n",
      "  warnings.warn(\"Found `{}` in params. Will use it instead of argument\".format(alias))\n"
     ]
    },
    {
     "name": "stdout",
     "output_type": "stream",
     "text": [
      "[10]\tvalid_0's rmse: 2620.58\n",
      "[20]\tvalid_0's rmse: 2072.7\n",
      "[30]\tvalid_0's rmse: 1903.17\n",
      "[40]\tvalid_0's rmse: 1841.12\n",
      "[50]\tvalid_0's rmse: 1811.35\n",
      "[60]\tvalid_0's rmse: 1793.22\n",
      "[70]\tvalid_0's rmse: 1780.26\n",
      "[80]\tvalid_0's rmse: 1769.87\n",
      "[90]\tvalid_0's rmse: 1762.87\n",
      "[100]\tvalid_0's rmse: 1755.75\n",
      "[110]\tvalid_0's rmse: 1750.29\n",
      "[120]\tvalid_0's rmse: 1745.77\n",
      "[130]\tvalid_0's rmse: 1739.36\n",
      "[140]\tvalid_0's rmse: 1735.3\n",
      "[150]\tvalid_0's rmse: 1731.55\n",
      "CPU times: user 13.9 s, sys: 0 ns, total: 13.9 s\n",
      "Wall time: 14.1 s\n"
     ]
    },
    {
     "data": {
      "text/plain": [
       "LGBMRegressor(boosting_type='gbdt', class_weight=None, colsample_bytree=1.0,\n",
       "              importance_type='split', learning_rate=0.1, max_depth=10,\n",
       "              metric='RMSE', min_child_samples=20, min_child_weight=0.001,\n",
       "              min_split_gain=0.0, n_estimators=100, n_jobs=-1,\n",
       "              num_iterations=150, num_leaves=31, objective=None,\n",
       "              random_state=None, reg_alpha=0.0, reg_lambda=0.0, silent=True,\n",
       "              subsample=1.0, subsample_for_bin=200000, subsample_freq=0)"
      ]
     },
     "execution_count": 26,
     "metadata": {},
     "output_type": "execute_result"
    }
   ],
   "source": [
    "%%time\n",
    "model7.fit(features_train1, target_train1,eval_set=[(features_valid1, target_valid1)],verbose=10)"
   ]
  },
  {
   "cell_type": "code",
   "execution_count": 27,
   "metadata": {},
   "outputs": [
    {
     "name": "stdout",
     "output_type": "stream",
     "text": [
      "CPU times: user 1.65 s, sys: 0 ns, total: 1.65 s\n",
      "Wall time: 1.61 s\n"
     ]
    }
   ],
   "source": [
    "%%time\n",
    "predicted_valid = model7.predict(features_valid1)"
   ]
  },
  {
   "cell_type": "code",
   "execution_count": 28,
   "metadata": {},
   "outputs": [
    {
     "name": "stdout",
     "output_type": "stream",
     "text": [
      "LGBMRegressor, iterations=150, depth=10\n",
      "RMSE = 1731.5548432807977\n"
     ]
    }
   ],
   "source": [
    "mse = mean_squared_error(target_valid1, predicted_valid)\n",
    "rmse7= mse ** 0.5\n",
    "print(\"LGBMRegressor, iterations=150, depth=10\")\n",
    "print(\"RMSE =\", rmse7)\n"
   ]
  },
  {
   "cell_type": "code",
   "execution_count": 29,
   "metadata": {},
   "outputs": [
    {
     "name": "stderr",
     "output_type": "stream",
     "text": [
      "/opt/conda/lib/python3.7/site-packages/lightgbm/engine.py:148: UserWarning: Found `num_iterations` in params. Will use it instead of argument\n",
      "  warnings.warn(\"Found `{}` in params. Will use it instead of argument\".format(alias))\n"
     ]
    },
    {
     "name": "stdout",
     "output_type": "stream",
     "text": [
      "[10]\tvalid_0's rmse: 2620.58\n",
      "[20]\tvalid_0's rmse: 2072.7\n",
      "[30]\tvalid_0's rmse: 1903.16\n",
      "[40]\tvalid_0's rmse: 1840.83\n",
      "[50]\tvalid_0's rmse: 1810.94\n",
      "[60]\tvalid_0's rmse: 1792.55\n",
      "[70]\tvalid_0's rmse: 1777.72\n",
      "[80]\tvalid_0's rmse: 1767.55\n",
      "[90]\tvalid_0's rmse: 1760.65\n",
      "[100]\tvalid_0's rmse: 1753.6\n",
      "[110]\tvalid_0's rmse: 1747.41\n",
      "[120]\tvalid_0's rmse: 1743.06\n",
      "[130]\tvalid_0's rmse: 1737.15\n",
      "[140]\tvalid_0's rmse: 1733.18\n",
      "[150]\tvalid_0's rmse: 1730.25\n",
      "[160]\tvalid_0's rmse: 1726.54\n",
      "[170]\tvalid_0's rmse: 1723.88\n",
      "[180]\tvalid_0's rmse: 1721.37\n",
      "[190]\tvalid_0's rmse: 1718.65\n",
      "[200]\tvalid_0's rmse: 1716.95\n",
      "CPU times: user 16.1 s, sys: 0 ns, total: 16.1 s\n",
      "Wall time: 16.3 s\n"
     ]
    },
    {
     "data": {
      "text/plain": [
       "LGBMRegressor(boosting_type='gbdt', class_weight=None, colsample_bytree=1.0,\n",
       "              importance_type='split', learning_rate=0.1, max_depth=12,\n",
       "              metric='RMSE', min_child_samples=20, min_child_weight=0.001,\n",
       "              min_split_gain=0.0, n_estimators=100, n_jobs=-1,\n",
       "              num_iterations=200, num_leaves=31, objective=None,\n",
       "              random_state=None, reg_alpha=0.0, reg_lambda=0.0, silent=True,\n",
       "              subsample=1.0, subsample_for_bin=200000, subsample_freq=0)"
      ]
     },
     "execution_count": 29,
     "metadata": {},
     "output_type": "execute_result"
    }
   ],
   "source": [
    "%%time\n",
    "model8.fit(features_train1, target_train1,eval_set=[(features_valid1, target_valid1)],verbose=10)"
   ]
  },
  {
   "cell_type": "code",
   "execution_count": 30,
   "metadata": {},
   "outputs": [
    {
     "name": "stdout",
     "output_type": "stream",
     "text": [
      "CPU times: user 2.1 s, sys: 0 ns, total: 2.1 s\n",
      "Wall time: 2.11 s\n"
     ]
    }
   ],
   "source": [
    "%%time\n",
    "predicted_valid = model8.predict(features_valid1)"
   ]
  },
  {
   "cell_type": "code",
   "execution_count": 31,
   "metadata": {},
   "outputs": [
    {
     "name": "stdout",
     "output_type": "stream",
     "text": [
      "LGBMRegressor, iterations=200, depth=12\n",
      "RMSE = 1716.9468291412757\n"
     ]
    }
   ],
   "source": [
    "mse = mean_squared_error(target_valid1, predicted_valid)\n",
    "rmse8= mse ** 0.5\n",
    "print(\"LGBMRegressor, iterations=200, depth=12\")\n",
    "print(\"RMSE =\", rmse8)"
   ]
  },
  {
   "cell_type": "markdown",
   "metadata": {},
   "source": [
    "У LGBMRegressor лучшая модель - модель8. Она точнее всех, работает незначительно медленнее. "
   ]
  },
  {
   "cell_type": "code",
   "execution_count": 32,
   "metadata": {},
   "outputs": [
    {
     "data": {
      "text/html": [
       "<div>\n",
       "<style scoped>\n",
       "    .dataframe tbody tr th:only-of-type {\n",
       "        vertical-align: middle;\n",
       "    }\n",
       "\n",
       "    .dataframe tbody tr th {\n",
       "        vertical-align: top;\n",
       "    }\n",
       "\n",
       "    .dataframe thead th {\n",
       "        text-align: right;\n",
       "    }\n",
       "</style>\n",
       "<table border=\"1\" class=\"dataframe\">\n",
       "  <thead>\n",
       "    <tr style=\"text-align: right;\">\n",
       "      <th></th>\n",
       "      <th>Время обучения</th>\n",
       "      <th>Время предсказания</th>\n",
       "      <th>RMSE</th>\n",
       "    </tr>\n",
       "  </thead>\n",
       "  <tbody>\n",
       "    <tr>\n",
       "      <td>model1</td>\n",
       "      <td>16 s</td>\n",
       "      <td>162 ms</td>\n",
       "      <td>2699.807439</td>\n",
       "    </tr>\n",
       "    <tr>\n",
       "      <td>model2</td>\n",
       "      <td>36.5 s</td>\n",
       "      <td>227 ms</td>\n",
       "      <td>2134.754345</td>\n",
       "    </tr>\n",
       "    <tr>\n",
       "      <td>model3</td>\n",
       "      <td>1min 16s</td>\n",
       "      <td>249 ms</td>\n",
       "      <td>1892.957347</td>\n",
       "    </tr>\n",
       "    <tr>\n",
       "      <td>model4</td>\n",
       "      <td>6min 51s</td>\n",
       "      <td>462 ms</td>\n",
       "      <td>1800.269682</td>\n",
       "    </tr>\n",
       "    <tr>\n",
       "      <td>model5</td>\n",
       "      <td>9.47 s</td>\n",
       "      <td>395 ms</td>\n",
       "      <td>1912.541953</td>\n",
       "    </tr>\n",
       "    <tr>\n",
       "      <td>model6</td>\n",
       "      <td>10.3 s</td>\n",
       "      <td>1.08 s</td>\n",
       "      <td>1763.594222</td>\n",
       "    </tr>\n",
       "    <tr>\n",
       "      <td>model7</td>\n",
       "      <td>15.2 s</td>\n",
       "      <td>1.6 s</td>\n",
       "      <td>1731.554843</td>\n",
       "    </tr>\n",
       "    <tr>\n",
       "      <td>model8</td>\n",
       "      <td>16.8 s</td>\n",
       "      <td>2.11 s</td>\n",
       "      <td>1716.946829</td>\n",
       "    </tr>\n",
       "  </tbody>\n",
       "</table>\n",
       "</div>"
      ],
      "text/plain": [
       "       Время обучения Время предсказания         RMSE\n",
       "model1           16 s             162 ms  2699.807439\n",
       "model2         36.5 s             227 ms  2134.754345\n",
       "model3       1min 16s             249 ms  1892.957347\n",
       "model4       6min 51s             462 ms  1800.269682\n",
       "model5         9.47 s             395 ms  1912.541953\n",
       "model6         10.3 s             1.08 s  1763.594222\n",
       "model7         15.2 s              1.6 s  1731.554843\n",
       "model8         16.8 s             2.11 s  1716.946829"
      ]
     },
     "execution_count": 32,
     "metadata": {},
     "output_type": "execute_result"
    }
   ],
   "source": [
    "results = {'Время обучения': ['16 s', '36.5 s','1min 16s','6min 51s','9.47 s','10.3 s','15.2 s','16.8 s'], \n",
    "           'Время предсказания': ['162 ms', '227 ms','249 ms','462 ms','395 ms','1.08 s','1.6 s','2.11 s'], \n",
    "           'RMSE': [rmse1,rmse2,rmse3,rmse4,rmse5,rmse6,rmse7,rmse8]}\n",
    "\n",
    "final_data = pd.DataFrame(data=results, index=['model1','model2','model3','model4','model5','model6','model7','model8'])\n",
    "final_data"
   ]
  },
  {
   "cell_type": "markdown",
   "metadata": {},
   "source": [
    "Добавлена таблица с результатами всех моделей."
   ]
  },
  {
   "cell_type": "code",
   "execution_count": 33,
   "metadata": {},
   "outputs": [
    {
     "name": "stderr",
     "output_type": "stream",
     "text": [
      "/opt/conda/lib/python3.7/site-packages/lightgbm/engine.py:148: UserWarning: Found `num_iterations` in params. Will use it instead of argument\n",
      "  warnings.warn(\"Found `{}` in params. Will use it instead of argument\".format(alias))\n"
     ]
    },
    {
     "name": "stdout",
     "output_type": "stream",
     "text": [
      "[10]\tvalid_0's rmse: 2620.58\n",
      "[20]\tvalid_0's rmse: 2072.7\n",
      "[30]\tvalid_0's rmse: 1903.16\n",
      "[40]\tvalid_0's rmse: 1840.83\n",
      "[50]\tvalid_0's rmse: 1810.94\n",
      "[60]\tvalid_0's rmse: 1792.55\n",
      "[70]\tvalid_0's rmse: 1777.72\n",
      "[80]\tvalid_0's rmse: 1767.55\n",
      "[90]\tvalid_0's rmse: 1760.65\n",
      "[100]\tvalid_0's rmse: 1753.6\n",
      "[110]\tvalid_0's rmse: 1747.41\n",
      "[120]\tvalid_0's rmse: 1743.06\n",
      "[130]\tvalid_0's rmse: 1737.15\n",
      "[140]\tvalid_0's rmse: 1733.18\n",
      "[150]\tvalid_0's rmse: 1730.25\n",
      "[160]\tvalid_0's rmse: 1726.54\n",
      "[170]\tvalid_0's rmse: 1723.88\n",
      "[180]\tvalid_0's rmse: 1721.37\n",
      "[190]\tvalid_0's rmse: 1718.65\n",
      "[200]\tvalid_0's rmse: 1716.95\n",
      "RMSE = 1758.9566574466555\n"
     ]
    }
   ],
   "source": [
    "model_final = lgb.LGBMRegressor(metric='RMSE',num_iterations=200, max_depth=12)\n",
    "model_final.fit(features_train1, target_train1,eval_set=[(features_valid1, target_valid1)],verbose=10)\n",
    "test_predictions = model_final.predict(features_test1)\n",
    "mse_final = mean_squared_error(target_test1, test_predictions)\n",
    "print(\"RMSE =\", mse_final ** 0.5)"
   ]
  },
  {
   "cell_type": "markdown",
   "metadata": {},
   "source": [
    "Проверка RMSE лучшей модели на тестовой выборке."
   ]
  },
  {
   "cell_type": "markdown",
   "metadata": {},
   "source": [
    "## Вывод. \n",
    "Среди 8 моделей наилучший результат показывает модель8. У неё наименьшее значение rmse, время обучения и предсказания занимает значительно меньше времени, чем аналог из CatBoostRegressor."
   ]
  }
 ],
 "metadata": {
  "kernelspec": {
   "display_name": "Python 3",
   "language": "python",
   "name": "python3"
  },
  "language_info": {
   "codemirror_mode": {
    "name": "ipython",
    "version": 3
   },
   "file_extension": ".py",
   "mimetype": "text/x-python",
   "name": "python",
   "nbconvert_exporter": "python",
   "pygments_lexer": "ipython3",
   "version": "3.7.4"
  }
 },
 "nbformat": 4,
 "nbformat_minor": 2
}
