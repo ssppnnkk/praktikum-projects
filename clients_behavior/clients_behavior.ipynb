{
 "cells": [
  {
   "cell_type": "markdown",
   "metadata": {},
   "source": [
    "# Отток клиентов"
   ]
  },
  {
   "cell_type": "markdown",
   "metadata": {},
   "source": [
    "# 1. Подготовка данных"
   ]
  },
  {
   "cell_type": "code",
   "execution_count": 2,
   "metadata": {},
   "outputs": [
    {
     "name": "stdout",
     "output_type": "stream",
     "text": [
      "<class 'pandas.core.frame.DataFrame'>\n",
      "RangeIndex: 10000 entries, 0 to 9999\n",
      "Data columns (total 14 columns):\n",
      "RowNumber          10000 non-null int64\n",
      "CustomerId         10000 non-null int64\n",
      "Surname            10000 non-null object\n",
      "CreditScore        10000 non-null int64\n",
      "Geography          10000 non-null object\n",
      "Gender             10000 non-null object\n",
      "Age                10000 non-null int64\n",
      "Tenure             9091 non-null float64\n",
      "Balance            10000 non-null float64\n",
      "NumOfProducts      10000 non-null int64\n",
      "HasCrCard          10000 non-null int64\n",
      "IsActiveMember     10000 non-null int64\n",
      "EstimatedSalary    10000 non-null float64\n",
      "Exited             10000 non-null int64\n",
      "dtypes: float64(3), int64(8), object(3)\n",
      "memory usage: 1.1+ MB\n",
      "None\n",
      "<class 'pandas.core.frame.DataFrame'>\n",
      "RangeIndex: 10000 entries, 0 to 9999\n",
      "Data columns (total 12 columns):\n",
      "CreditScore          10000 non-null int64\n",
      "Age                  10000 non-null int64\n",
      "Tenure               10000 non-null float64\n",
      "Balance              10000 non-null float64\n",
      "NumOfProducts        10000 non-null int64\n",
      "HasCrCard            10000 non-null int64\n",
      "IsActiveMember       10000 non-null int64\n",
      "EstimatedSalary      10000 non-null float64\n",
      "Exited               10000 non-null int64\n",
      "Geography_Germany    10000 non-null uint8\n",
      "Geography_Spain      10000 non-null uint8\n",
      "Gender_Male          10000 non-null uint8\n",
      "dtypes: float64(3), int64(6), uint8(3)\n",
      "memory usage: 732.5 KB\n",
      "None\n"
     ]
    }
   ],
   "source": [
    "import pandas as pd\n",
    "from sklearn.tree import DecisionTreeClassifier\n",
    "from sklearn.linear_model import LogisticRegression\n",
    "from sklearn.ensemble import RandomForestClassifier\n",
    "from sklearn.model_selection import train_test_split\n",
    "from sklearn.preprocessing import StandardScaler\n",
    "from sklearn.metrics import f1_score\n",
    "from sklearn.metrics import confusion_matrix\n",
    "from sklearn.metrics import roc_auc_score\n",
    "from sklearn.utils import shuffle\n",
    "\n",
    "\n",
    "data = pd.read_csv('/datasets/Churn.csv')\n",
    "\n",
    "print(data.info())\n",
    "data['Tenure'] = data['Tenure'].fillna(value=0) # меняем пропуски на 0\n",
    "\n",
    "# дропнем фамилию, индекс и айди - не нужны, нельзя рассчитать уход по ним\n",
    "data = data.drop(['Surname', 'RowNumber', 'CustomerId'], axis = 1)\n",
    "# gender & geography переведем к числ.знач. прямым кодированием\n",
    "data = pd.get_dummies(data, drop_first=True)\n",
    "\n",
    "print(data.info())\n",
    "\n",
    "\n",
    "\n",
    "#делим на выборки\n",
    "data_valid_train, data_test = train_test_split(data, test_size=0.2, random_state=12345)\n",
    "data_train, data_valid = train_test_split(data_valid_train, test_size=0.25, random_state=12345)\n",
    "\n",
    "\n",
    "\n",
    "# признаки, целевые признаки \n",
    "features_train = data_train.drop(['Exited'], axis=1)\n",
    "target_train = data_train['Exited']\n",
    "features_test = data_test.drop(['Exited'], axis=1)\n",
    "target_test = data_test['Exited']\n",
    "features_valid = data_valid.drop(['Exited'], axis=1)\n",
    "target_valid = data_valid['Exited']"
   ]
  },
  {
   "cell_type": "markdown",
   "metadata": {},
   "source": [
    "Пропуски в столбце Tenure меняем на 0, тк при отсутствии информации считаем, что Tenure=0.\n",
    "Столбцы с фамилией, индексом и айди убираем, по ним нельзя определить, уйдет клиент или нет.\n",
    "Столбцы Gender, Geography приведены к численным значениям с помощью прямого кодирования.\n",
    "Убраны лишние столбцы,  чтобы избежать дамми-ловушек.\n",
    "Полученные данные разбиты на выборки в пропорции 6:2:2.\n"
   ]
  },
  {
   "cell_type": "markdown",
   "metadata": {},
   "source": [
    "# 2. Исследование задачи"
   ]
  },
  {
   "cell_type": "code",
   "execution_count": 3,
   "metadata": {},
   "outputs": [
    {
     "name": "stdout",
     "output_type": "stream",
     "text": [
      "[[1384  225]\n",
      " [ 196  195]]\n",
      "\n"
     ]
    }
   ],
   "source": [
    "\n",
    "model11 = DecisionTreeClassifier(random_state=12345)\n",
    "model11.fit(features_train, target_train)\n",
    "train_predictions11 = model11.predict(features_valid)\n",
    "probabilities_valid11 = model11.predict_proba(features_valid)\n",
    "probabilities_one_valid11 = probabilities_valid11[:, 1]\n",
    "print(confusion_matrix(target_valid, train_predictions11))\n",
    "print()\n"
   ]
  },
  {
   "cell_type": "markdown",
   "metadata": {},
   "source": [
    "Для исследования была взята модель случайного дерева с гиперпараметрами по умолчанию. Уровень ложноположительных\\отрицательных находится примерно такой же как уровень истиннно положительных. необходимо сбалансировать классы.\n"
   ]
  },
  {
   "cell_type": "markdown",
   "metadata": {},
   "source": [
    "# 3. Борьба с дисбалансом"
   ]
  },
  {
   "cell_type": "code",
   "execution_count": 5,
   "metadata": {},
   "outputs": [
    {
     "name": "stdout",
     "output_type": "stream",
     "text": [
      "F1: 0.4704336399474376\n"
     ]
    },
    {
     "name": "stderr",
     "output_type": "stream",
     "text": [
      "/opt/conda/lib/python3.7/site-packages/sklearn/ensemble/forest.py:245: FutureWarning: The default value of n_estimators will change from 10 in version 0.20 to 100 in 0.22.\n",
      "  \"10 in version 0.20 to 100 in 0.22.\", FutureWarning)\n"
     ]
    },
    {
     "name": "stdout",
     "output_type": "stream",
     "text": [
      "F1: 0.5492957746478873\n",
      "F1: 0.3527239150507849\n"
     ]
    }
   ],
   "source": [
    "def upsample(features, target, repeat):\n",
    "    features_zeros = features[target == 0]\n",
    "    features_ones = features[target == 1]\n",
    "    target_zeros = target[target == 0]\n",
    "    target_ones = target[target == 1]\n",
    "\n",
    "    features_upsampled = pd.concat([features_zeros] + [features_ones] * repeat)\n",
    "    target_upsampled = pd.concat([target_zeros] + [target_ones] * repeat)\n",
    "    \n",
    "    features_upsampled, target_upsampled = shuffle(\n",
    "        features_upsampled, target_upsampled, random_state=12345)\n",
    "    \n",
    "    return features_upsampled, target_upsampled\n",
    "\n",
    "features_upsampled, target_upsampled = upsample(features_train, target_train, 10)\n",
    "\n",
    "model1u = DecisionTreeClassifier(random_state=12345)\n",
    "model1u.fit(features_upsampled, target_upsampled)\n",
    "predicted_valid1u = model1u.predict(features_valid)\n",
    "print(\"F1:\", f1_score(target_valid, predicted_valid1u))\n",
    "\n",
    "model2u = RandomForestClassifier(random_state=12345)\n",
    "model2u.fit(features_upsampled, target_upsampled)\n",
    "predicted_valid2u = model2u.predict(features_valid)\n",
    "print(\"F1:\", f1_score(target_valid, predicted_valid2u))\n",
    "\n",
    "\n",
    "model3u=LogisticRegression(random_state=12345, solver='liblinear')\n",
    "model3u.fit(features_upsampled, target_upsampled)\n",
    "predicted_valid3u = model3u.predict(features_valid)\n",
    "print(\"F1:\", f1_score(target_valid, predicted_valid3u))"
   ]
  },
  {
   "cell_type": "markdown",
   "metadata": {},
   "source": [
    "Значения f1 при применении upsample для моделей с гиперпараметрами по умолчанию."
   ]
  },
  {
   "cell_type": "code",
   "execution_count": 6,
   "metadata": {},
   "outputs": [
    {
     "name": "stdout",
     "output_type": "stream",
     "text": [
      "F1: 0.42985487214927437\n",
      "F1: 0.46464646464646475\n",
      "F1: 0.3417890520694259\n"
     ]
    },
    {
     "name": "stderr",
     "output_type": "stream",
     "text": [
      "/opt/conda/lib/python3.7/site-packages/sklearn/ensemble/forest.py:245: FutureWarning: The default value of n_estimators will change from 10 in version 0.20 to 100 in 0.22.\n",
      "  \"10 in version 0.20 to 100 in 0.22.\", FutureWarning)\n"
     ]
    }
   ],
   "source": [
    "def downsample(features, target, fraction):\n",
    "    features_zeros = features[target == 0]\n",
    "    features_ones = features[target == 1]\n",
    "    target_zeros = target[target == 0]\n",
    "    target_ones = target[target == 1]\n",
    "\n",
    "    features_downsampled = pd.concat(\n",
    "        [features_zeros.sample(frac=fraction, random_state=12345)] + [features_ones])\n",
    "    target_downsampled = pd.concat(\n",
    "        [target_zeros.sample(frac=fraction, random_state=12345)] + [target_ones])\n",
    "    \n",
    "    features_downsampled, target_downsampled = shuffle(\n",
    "        features_downsampled, target_downsampled, random_state=12345)\n",
    "    \n",
    "    return features_downsampled, target_downsampled\n",
    "\n",
    "features_downsampled, target_downsampled = downsample(features_train, target_train, 0.1)\n",
    "\n",
    "\n",
    "model1d = DecisionTreeClassifier(random_state=12345)\n",
    "model1d.fit(features_downsampled, target_downsampled)\n",
    "predicted_valid1d = model1d.predict(features_valid)\n",
    "print(\"F1:\", f1_score(target_valid, predicted_valid1d))\n",
    "\n",
    "model2d = RandomForestClassifier(random_state=12345)\n",
    "model2d.fit(features_downsampled, target_downsampled)\n",
    "predicted_valid2d = model2d.predict(features_valid)\n",
    "print(\"F1:\", f1_score(target_valid, predicted_valid2d))\n",
    "\n",
    "\n",
    "model3d=LogisticRegression(random_state=12345, solver='liblinear')\n",
    "model3d.fit(features_downsampled, target_downsampled)\n",
    "predicted_valid3d = model3d.predict(features_valid)\n",
    "print(\"F1:\", f1_score(target_valid, predicted_valid3d))"
   ]
  },
  {
   "cell_type": "markdown",
   "metadata": {},
   "source": [
    "Значения f1 при применении downsample для моделей с гиперпараметрами по умолчанию."
   ]
  },
  {
   "cell_type": "code",
   "execution_count": 7,
   "metadata": {},
   "outputs": [
    {
     "name": "stdout",
     "output_type": "stream",
     "text": [
      "F1: 0.46293888166449937\n",
      "F1: 0.5354838709677419\n",
      "F1: 0.4754521963824289\n"
     ]
    },
    {
     "name": "stderr",
     "output_type": "stream",
     "text": [
      "/opt/conda/lib/python3.7/site-packages/sklearn/ensemble/forest.py:245: FutureWarning: The default value of n_estimators will change from 10 in version 0.20 to 100 in 0.22.\n",
      "  \"10 in version 0.20 to 100 in 0.22.\", FutureWarning)\n",
      "/opt/conda/lib/python3.7/site-packages/sklearn/linear_model/logistic.py:432: FutureWarning: Default solver will be changed to 'lbfgs' in 0.22. Specify a solver to silence this warning.\n",
      "  FutureWarning)\n"
     ]
    }
   ],
   "source": [
    "model1b = DecisionTreeClassifier(random_state=12345,class_weight='balanced')\n",
    "model1b.fit(features_train, target_train)\n",
    "predicted_valid1b = model1b.predict(features_valid)\n",
    "print(\"F1:\", f1_score(target_valid, predicted_valid1b))\n",
    "\n",
    "model2b = RandomForestClassifier(random_state=12345,class_weight='balanced')\n",
    "model2b.fit(features_train, target_train)\n",
    "predicted_valid2b = model2b.predict(features_valid)\n",
    "print(\"F1:\", f1_score(target_valid, predicted_valid2b))\n",
    "\n",
    "\n",
    "model3b=LogisticRegression(random_state=12345, class_weight='balanced')\n",
    "model3b.fit(features_train, target_train)\n",
    "predicted_valid3b = model3b.predict(features_valid)\n",
    "print(\"F1:\", f1_score(target_valid, predicted_valid3b))"
   ]
  },
  {
   "cell_type": "markdown",
   "metadata": {},
   "source": [
    "Значения f1 при применении балансировки классов для моделей с гиперпараметрами по умолчанию."
   ]
  },
  {
   "cell_type": "markdown",
   "metadata": {},
   "source": [
    "# Вывод: наибольшее значение f1 у сл. леса и метода upsample. Используем их.\n"
   ]
  },
  {
   "cell_type": "code",
   "execution_count": 8,
   "metadata": {},
   "outputs": [
    {
     "name": "stderr",
     "output_type": "stream",
     "text": [
      "/opt/conda/lib/python3.7/site-packages/sklearn/ensemble/forest.py:245: FutureWarning: The default value of n_estimators will change from 10 in version 0.20 to 100 in 0.22.\n",
      "  \"10 in version 0.20 to 100 in 0.22.\", FutureWarning)\n",
      "/opt/conda/lib/python3.7/site-packages/sklearn/ensemble/forest.py:245: FutureWarning: The default value of n_estimators will change from 10 in version 0.20 to 100 in 0.22.\n",
      "  \"10 in version 0.20 to 100 in 0.22.\", FutureWarning)\n"
     ]
    },
    {
     "name": "stdout",
     "output_type": "stream",
     "text": [
      "i= 1 F1: 0.5445859872611465\n",
      "i= 2 F1: 0.552437223042836\n"
     ]
    },
    {
     "name": "stderr",
     "output_type": "stream",
     "text": [
      "/opt/conda/lib/python3.7/site-packages/sklearn/ensemble/forest.py:245: FutureWarning: The default value of n_estimators will change from 10 in version 0.20 to 100 in 0.22.\n",
      "  \"10 in version 0.20 to 100 in 0.22.\", FutureWarning)\n"
     ]
    },
    {
     "name": "stdout",
     "output_type": "stream",
     "text": [
      "i= 3 F1: 0.5833333333333334\n"
     ]
    },
    {
     "name": "stderr",
     "output_type": "stream",
     "text": [
      "/opt/conda/lib/python3.7/site-packages/sklearn/ensemble/forest.py:245: FutureWarning: The default value of n_estimators will change from 10 in version 0.20 to 100 in 0.22.\n",
      "  \"10 in version 0.20 to 100 in 0.22.\", FutureWarning)\n"
     ]
    },
    {
     "name": "stdout",
     "output_type": "stream",
     "text": [
      "i= 4 F1: 0.5459770114942529\n"
     ]
    },
    {
     "name": "stderr",
     "output_type": "stream",
     "text": [
      "/opt/conda/lib/python3.7/site-packages/sklearn/ensemble/forest.py:245: FutureWarning: The default value of n_estimators will change from 10 in version 0.20 to 100 in 0.22.\n",
      "  \"10 in version 0.20 to 100 in 0.22.\", FutureWarning)\n"
     ]
    },
    {
     "name": "stdout",
     "output_type": "stream",
     "text": [
      "i= 5 F1: 0.559322033898305\n"
     ]
    },
    {
     "name": "stderr",
     "output_type": "stream",
     "text": [
      "/opt/conda/lib/python3.7/site-packages/sklearn/ensemble/forest.py:245: FutureWarning: The default value of n_estimators will change from 10 in version 0.20 to 100 in 0.22.\n",
      "  \"10 in version 0.20 to 100 in 0.22.\", FutureWarning)\n"
     ]
    },
    {
     "name": "stdout",
     "output_type": "stream",
     "text": [
      "i= 6 F1: 0.5542857142857143\n"
     ]
    },
    {
     "name": "stderr",
     "output_type": "stream",
     "text": [
      "/opt/conda/lib/python3.7/site-packages/sklearn/ensemble/forest.py:245: FutureWarning: The default value of n_estimators will change from 10 in version 0.20 to 100 in 0.22.\n",
      "  \"10 in version 0.20 to 100 in 0.22.\", FutureWarning)\n"
     ]
    },
    {
     "name": "stdout",
     "output_type": "stream",
     "text": [
      "i= 7 F1: 0.5438848920863308\n"
     ]
    },
    {
     "name": "stderr",
     "output_type": "stream",
     "text": [
      "/opt/conda/lib/python3.7/site-packages/sklearn/ensemble/forest.py:245: FutureWarning: The default value of n_estimators will change from 10 in version 0.20 to 100 in 0.22.\n",
      "  \"10 in version 0.20 to 100 in 0.22.\", FutureWarning)\n"
     ]
    },
    {
     "name": "stdout",
     "output_type": "stream",
     "text": [
      "i= 8 F1: 0.556497175141243\n"
     ]
    },
    {
     "name": "stderr",
     "output_type": "stream",
     "text": [
      "/opt/conda/lib/python3.7/site-packages/sklearn/ensemble/forest.py:245: FutureWarning: The default value of n_estimators will change from 10 in version 0.20 to 100 in 0.22.\n",
      "  \"10 in version 0.20 to 100 in 0.22.\", FutureWarning)\n"
     ]
    },
    {
     "name": "stdout",
     "output_type": "stream",
     "text": [
      "i= 9 F1: 0.5459770114942529\n"
     ]
    },
    {
     "name": "stderr",
     "output_type": "stream",
     "text": [
      "/opt/conda/lib/python3.7/site-packages/sklearn/ensemble/forest.py:245: FutureWarning: The default value of n_estimators will change from 10 in version 0.20 to 100 in 0.22.\n",
      "  \"10 in version 0.20 to 100 in 0.22.\", FutureWarning)\n"
     ]
    },
    {
     "name": "stdout",
     "output_type": "stream",
     "text": [
      "i= 10 F1: 0.5492957746478873\n"
     ]
    },
    {
     "name": "stderr",
     "output_type": "stream",
     "text": [
      "/opt/conda/lib/python3.7/site-packages/sklearn/ensemble/forest.py:245: FutureWarning: The default value of n_estimators will change from 10 in version 0.20 to 100 in 0.22.\n",
      "  \"10 in version 0.20 to 100 in 0.22.\", FutureWarning)\n"
     ]
    },
    {
     "name": "stdout",
     "output_type": "stream",
     "text": [
      "i= 11 F1: 0.5470085470085471\n"
     ]
    },
    {
     "name": "stderr",
     "output_type": "stream",
     "text": [
      "/opt/conda/lib/python3.7/site-packages/sklearn/ensemble/forest.py:245: FutureWarning: The default value of n_estimators will change from 10 in version 0.20 to 100 in 0.22.\n",
      "  \"10 in version 0.20 to 100 in 0.22.\", FutureWarning)\n"
     ]
    },
    {
     "name": "stdout",
     "output_type": "stream",
     "text": [
      "i= 12 F1: 0.5828571428571429\n"
     ]
    },
    {
     "name": "stderr",
     "output_type": "stream",
     "text": [
      "/opt/conda/lib/python3.7/site-packages/sklearn/ensemble/forest.py:245: FutureWarning: The default value of n_estimators will change from 10 in version 0.20 to 100 in 0.22.\n",
      "  \"10 in version 0.20 to 100 in 0.22.\", FutureWarning)\n"
     ]
    },
    {
     "name": "stdout",
     "output_type": "stream",
     "text": [
      "i= 13 F1: 0.5374449339207048\n"
     ]
    },
    {
     "name": "stderr",
     "output_type": "stream",
     "text": [
      "/opt/conda/lib/python3.7/site-packages/sklearn/ensemble/forest.py:245: FutureWarning: The default value of n_estimators will change from 10 in version 0.20 to 100 in 0.22.\n",
      "  \"10 in version 0.20 to 100 in 0.22.\", FutureWarning)\n"
     ]
    },
    {
     "name": "stdout",
     "output_type": "stream",
     "text": [
      "i= 14 F1: 0.5415472779369628\n"
     ]
    },
    {
     "name": "stderr",
     "output_type": "stream",
     "text": [
      "/opt/conda/lib/python3.7/site-packages/sklearn/ensemble/forest.py:245: FutureWarning: The default value of n_estimators will change from 10 in version 0.20 to 100 in 0.22.\n",
      "  \"10 in version 0.20 to 100 in 0.22.\", FutureWarning)\n"
     ]
    },
    {
     "name": "stdout",
     "output_type": "stream",
     "text": [
      "i= 15 F1: 0.5500705218617771\n"
     ]
    }
   ],
   "source": [
    "#Настраиваем upsample \n",
    "for i in range(1, 16):\n",
    "    features_upsampled, target_upsampled = upsample(features_train, target_train, i)\n",
    "    model2up = RandomForestClassifier(random_state=12345)\n",
    "    model2up.fit(features_upsampled, target_upsampled)\n",
    "    predicted_valid2up = model2up.predict(features_valid)\n",
    "    print('i=',i, \"F1:\", f1_score(target_valid, predicted_valid2up))\n"
   ]
  },
  {
   "cell_type": "markdown",
   "metadata": {},
   "source": [
    "Максимальное значение f1 достигается, если повторяем процедуру 3 раза"
   ]
  },
  {
   "cell_type": "code",
   "execution_count": 9,
   "metadata": {
    "scrolled": true
   },
   "outputs": [
    {
     "name": "stdout",
     "output_type": "stream",
     "text": [
      "n_estimators = 10 depth = 1 f1: 0.4407582938388625 auc-roc: 0.7528822051154075\n",
      "n_estimators = 10 depth = 2 f1: 0.535031847133758 auc-roc: 0.8075840977621085\n",
      "n_estimators = 10 depth = 3 f1: 0.5263157894736843 auc-roc: 0.8163105867093506\n",
      "n_estimators = 10 depth = 4 f1: 0.5633187772925764 auc-roc: 0.8263587651938663\n",
      "n_estimators = 10 depth = 5 f1: 0.5576923076923077 auc-roc: 0.8366493461491388\n",
      "n_estimators = 10 depth = 6 f1: 0.5634095634095635 auc-roc: 0.841013385384959\n",
      "n_estimators = 10 depth = 7 f1: 0.5611814345991561 auc-roc: 0.8404506937479237\n",
      "n_estimators = 10 depth = 8 f1: 0.5829694323144105 auc-roc: 0.8437910792711714\n",
      "n_estimators = 10 depth = 9 f1: 0.5711111111111112 auc-roc: 0.8401669636428084\n",
      "n_estimators = 10 depth = 10 f1: 0.5694444444444444 auc-roc: 0.8330729162527282\n",
      "n_estimators = 20 depth = 1 f1: 0.5206349206349206 auc-roc: 0.7846520292663233\n",
      "n_estimators = 20 depth = 2 f1: 0.5113207547169812 auc-roc: 0.7999567649363634\n",
      "n_estimators = 20 depth = 3 f1: 0.5192127460168696 auc-roc: 0.8161269966413349\n",
      "n_estimators = 20 depth = 4 f1: 0.5478348439073515 auc-roc: 0.8263977085416273\n",
      "n_estimators = 20 depth = 5 f1: 0.5512953367875648 auc-roc: 0.8374949731290899\n",
      "n_estimators = 20 depth = 6 f1: 0.5559038662486938 auc-roc: 0.8444491423721108\n",
      "n_estimators = 20 depth = 7 f1: 0.5648535564853556 auc-roc: 0.8457605000007947\n",
      "n_estimators = 20 depth = 8 f1: 0.5845147219193021 auc-roc: 0.8478093969503385\n",
      "n_estimators = 20 depth = 9 f1: 0.5720620842572063 auc-roc: 0.8442695261150911\n",
      "n_estimators = 20 depth = 10 f1: 0.5714285714285714 auc-roc: 0.8423573282638102\n",
      "n_estimators = 30 depth = 1 f1: 0.48676345004269844 auc-roc: 0.7786269370341701\n",
      "n_estimators = 30 depth = 2 f1: 0.5110047846889952 auc-roc: 0.8017282898783855\n",
      "n_estimators = 30 depth = 3 f1: 0.5195530726256984 auc-roc: 0.8166189544426412\n",
      "n_estimators = 30 depth = 4 f1: 0.5576730190571714 auc-roc: 0.8295640411432496\n",
      "n_estimators = 30 depth = 5 f1: 0.5426829268292683 auc-roc: 0.8381371409860455\n",
      "n_estimators = 30 depth = 6 f1: 0.5456410256410256 auc-roc: 0.8444213256951387\n",
      "n_estimators = 30 depth = 7 f1: 0.5648535564853556 auc-roc: 0.8461197325148342\n",
      "n_estimators = 30 depth = 8 f1: 0.5806451612903226 auc-roc: 0.8481225332568243\n",
      "n_estimators = 30 depth = 9 f1: 0.5806451612903226 auc-roc: 0.8490714793226719\n",
      "n_estimators = 30 depth = 10 f1: 0.579743888242142 auc-roc: 0.8462850430522684\n",
      "n_estimators = 40 depth = 1 f1: 0.5027223230490018 auc-roc: 0.7896089611027485\n",
      "n_estimators = 40 depth = 2 f1: 0.5038167938931296 auc-roc: 0.8118797874487975\n",
      "n_estimators = 40 depth = 3 f1: 0.522232734153264 auc-roc: 0.8245244540381073\n",
      "n_estimators = 40 depth = 4 f1: 0.5436105476673428 auc-roc: 0.8333113449124887\n",
      "n_estimators = 40 depth = 5 f1: 0.5424769703172979 auc-roc: 0.8406541528709195\n",
      "n_estimators = 40 depth = 6 f1: 0.5505154639175257 auc-roc: 0.8479794760609678\n",
      "n_estimators = 40 depth = 7 f1: 0.5705263157894738 auc-roc: 0.8481129961104338\n",
      "n_estimators = 40 depth = 8 f1: 0.5853131749460043 auc-roc: 0.8514192068591158\n",
      "n_estimators = 40 depth = 9 f1: 0.5780730897009967 auc-roc: 0.8495101880566315\n",
      "n_estimators = 40 depth = 10 f1: 0.5878220140515222 auc-roc: 0.8485628315151824\n",
      "n_estimators = 50 depth = 1 f1: 0.5038167938931296 auc-roc: 0.7875060203236591\n",
      "n_estimators = 50 depth = 2 f1: 0.5028571428571428 auc-roc: 0.8107067184427748\n",
      "n_estimators = 50 depth = 3 f1: 0.5332050048123195 auc-roc: 0.8250060799308239\n",
      "n_estimators = 50 depth = 4 f1: 0.5427135678391959 auc-roc: 0.8341831990450139\n",
      "n_estimators = 50 depth = 5 f1: 0.5421319796954315 auc-roc: 0.8411723378247995\n",
      "n_estimators = 50 depth = 6 f1: 0.5517948717948717 auc-roc: 0.8492828860676597\n",
      "n_estimators = 50 depth = 7 f1: 0.5770833333333333 auc-roc: 0.850112617803627\n",
      "n_estimators = 50 depth = 8 f1: 0.5821697099892589 auc-roc: 0.8524333234252979\n",
      "n_estimators = 50 depth = 9 f1: 0.578420467185762 auc-roc: 0.8498662415218742\n",
      "n_estimators = 50 depth = 10 f1: 0.5831381733021077 auc-roc: 0.8492383793845043\n",
      "n_estimators = 60 depth = 1 f1: 0.49812030075187974 auc-roc: 0.7910276116283245\n",
      "n_estimators = 60 depth = 2 f1: 0.507380073800738 auc-roc: 0.8096886280655965\n",
      "n_estimators = 60 depth = 3 f1: 0.5352657004830917 auc-roc: 0.8251141675899154\n",
      "n_estimators = 60 depth = 4 f1: 0.5411764705882353 auc-roc: 0.8355581376496338\n",
      "n_estimators = 60 depth = 5 f1: 0.5436105476673428 auc-roc: 0.8419233881030457\n",
      "n_estimators = 60 depth = 6 f1: 0.5537190082644627 auc-roc: 0.8492884494030541\n",
      "n_estimators = 60 depth = 7 f1: 0.569633507853403 auc-roc: 0.8519008327518324\n",
      "n_estimators = 60 depth = 8 f1: 0.5868392664509169 auc-roc: 0.8526653939874651\n",
      "n_estimators = 60 depth = 9 f1: 0.5812917594654788 auc-roc: 0.8500792377912605\n",
      "n_estimators = 60 depth = 10 f1: 0.5887850467289719 auc-roc: 0.8498789577170616\n",
      "n_estimators = 70 depth = 1 f1: 0.5 auc-roc: 0.7896828739872742\n",
      "n_estimators = 70 depth = 2 f1: 0.5096596136154553 auc-roc: 0.8096989599741862\n",
      "n_estimators = 70 depth = 3 f1: 0.5341018251681077 auc-roc: 0.8230461963475909\n",
      "n_estimators = 70 depth = 4 f1: 0.5447316103379721 auc-roc: 0.8341736618986233\n",
      "n_estimators = 70 depth = 5 f1: 0.5419615773508595 auc-roc: 0.8413273164536439\n",
      "n_estimators = 70 depth = 6 f1: 0.5565939771547248 auc-roc: 0.8484483857584972\n",
      "n_estimators = 70 depth = 7 f1: 0.5693430656934307 auc-roc: 0.8521440299847881\n",
      "n_estimators = 70 depth = 8 f1: 0.5873362445414847 auc-roc: 0.8524508081936802\n",
      "n_estimators = 70 depth = 9 f1: 0.5867861142217244 auc-roc: 0.8499806872785595\n",
      "n_estimators = 70 depth = 10 f1: 0.5941520467836257 auc-roc: 0.8500776482668623\n",
      "n_estimators = 80 depth = 1 f1: 0.5009009009009009 auc-roc: 0.7876443089463202\n",
      "n_estimators = 80 depth = 2 f1: 0.5120593692022264 auc-roc: 0.8126292482026451\n",
      "n_estimators = 80 depth = 3 f1: 0.5403304178814383 auc-roc: 0.8234880841303474\n",
      "n_estimators = 80 depth = 4 f1: 0.5393034825870647 auc-roc: 0.8337659488904324\n",
      "n_estimators = 80 depth = 5 f1: 0.5421319796954315 auc-roc: 0.8428818713152837\n",
      "n_estimators = 80 depth = 6 f1: 0.5569358178053829 auc-roc: 0.8495880747521536\n",
      "n_estimators = 80 depth = 7 f1: 0.5750000000000001 auc-roc: 0.8531533779777752\n",
      "n_estimators = 80 depth = 8 f1: 0.5851528384279476 auc-roc: 0.852900643598429\n",
      "n_estimators = 80 depth = 9 f1: 0.5899441340782122 auc-roc: 0.8510329524303032\n",
      "n_estimators = 80 depth = 10 f1: 0.5908558030480656 auc-roc: 0.8519850775449478\n",
      "n_estimators = 90 depth = 1 f1: 0.5004703668861712 auc-roc: 0.7871396349498267\n",
      "n_estimators = 90 depth = 2 f1: 0.5256166982922201 auc-roc: 0.8134693118472023\n",
      "n_estimators = 90 depth = 3 f1: 0.5452755905511811 auc-roc: 0.8258358116667912\n",
      "n_estimators = 90 depth = 4 f1: 0.5429141716566867 auc-roc: 0.8351981103733952\n",
      "n_estimators = 90 depth = 5 f1: 0.5476923076923077 auc-roc: 0.8437282930574344\n",
      "n_estimators = 90 depth = 6 f1: 0.5578512396694215 auc-roc: 0.850230242609109\n",
      "n_estimators = 90 depth = 7 f1: 0.5752855659397715 auc-roc: 0.8536413619680855\n",
      "n_estimators = 90 depth = 8 f1: 0.5847826086956521 auc-roc: 0.8536222876753047\n",
      "n_estimators = 90 depth = 9 f1: 0.5907553551296505 auc-roc: 0.8520025623133303\n",
      "n_estimators = 90 depth = 10 f1: 0.5904317386231039 auc-roc: 0.8521805890459515\n",
      "n_estimators = 100 depth = 1 f1: 0.49905482041587895 auc-roc: 0.7867438433746239\n",
      "n_estimators = 100 depth = 2 f1: 0.522232734153264 auc-roc: 0.8135654780733057\n",
      "n_estimators = 100 depth = 3 f1: 0.5394352482960079 auc-roc: 0.8256379158791899\n",
      "n_estimators = 100 depth = 4 f1: 0.5469061876247505 auc-roc: 0.835613771003578\n",
      "n_estimators = 100 depth = 5 f1: 0.5491803278688525 auc-roc: 0.8441932289439676\n",
      "n_estimators = 100 depth = 6 f1: 0.5584281282316442 auc-roc: 0.8504893350860488\n",
      "n_estimators = 100 depth = 7 f1: 0.5720250521920668 auc-roc: 0.8536048029069223\n",
      "n_estimators = 100 depth = 8 f1: 0.5918591859185918 auc-roc: 0.853717659139209\n",
      "n_estimators = 100 depth = 9 f1: 0.593258426966292 auc-roc: 0.8533059723200223\n",
      "n_estimators = 100 depth = 10 f1: 0.5897435897435898 auc-roc: 0.8523522576809792\n"
     ]
    }
   ],
   "source": [
    "#Настраиваем случайный лес, где repeat = 3\n",
    "\n",
    "features_upsampled, target_upsampled = upsample(features_train, target_train, 3)\n",
    "\n",
    "for estimators in range(10, 101, 10):\n",
    "    for depth in range(1,11,1):\n",
    "        model22 = RandomForestClassifier(n_estimators=estimators, max_depth=depth, random_state=12345, class_weight='balanced')\n",
    "        model22.fit(features_upsampled, target_upsampled)\n",
    "        train_predictions22 = model22.predict(features_valid)\n",
    "        probabilities_valid22 = model22.predict_proba(features_valid)\n",
    "        probabilities_one_valid22 = probabilities_valid22[:, 1]\n",
    "        print(\"n_estimators =\", estimators,\"depth =\",depth,'f1:',f1_score(target_valid, train_predictions22), 'auc-roc:', roc_auc_score(target_valid,probabilities_one_valid22))\n",
    "    \n"
   ]
  },
  {
   "cell_type": "markdown",
   "metadata": {},
   "source": [
    "Макс значение при n_estimators = 100 depth = 9 f1: 0.593258426966292 auc-roc: 0.8533059723200223.\n",
    "Используем для финальной модели."
   ]
  },
  {
   "cell_type": "markdown",
   "metadata": {},
   "source": [
    "# 4. Тестирование модели"
   ]
  },
  {
   "cell_type": "code",
   "execution_count": 10,
   "metadata": {},
   "outputs": [
    {
     "name": "stdout",
     "output_type": "stream",
     "text": [
      "f1: 0.6416382252559726 auc-roc: 0.8679919186625594\n"
     ]
    }
   ],
   "source": [
    "model = RandomForestClassifier(n_estimators=100,max_depth=9, random_state=12345)\n",
    "model.fit(features_upsampled, target_upsampled)\n",
    "test_predictions = model.predict(features_test)\n",
    "probabilities_valid = model.predict_proba(features_test)\n",
    "probabilities_one_valid = probabilities_valid[:, 1]\n",
    "print('f1:',f1_score(target_test, test_predictions), 'auc-roc:', roc_auc_score(target_test,probabilities_one_valid))\n"
   ]
  },
  {
   "cell_type": "code",
   "execution_count": null,
   "metadata": {},
   "outputs": [],
   "source": []
  }
 ],
 "metadata": {
  "kernelspec": {
   "display_name": "Python 3",
   "language": "python",
   "name": "python3"
  },
  "language_info": {
   "codemirror_mode": {
    "name": "ipython",
    "version": 3
   },
   "file_extension": ".py",
   "mimetype": "text/x-python",
   "name": "python",
   "nbconvert_exporter": "python",
   "pygments_lexer": "ipython3",
   "version": "3.7.4"
  }
 },
 "nbformat": 4,
 "nbformat_minor": 2
}
