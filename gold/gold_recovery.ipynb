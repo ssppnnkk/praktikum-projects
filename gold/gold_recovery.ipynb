{
 "cells": [
  {
   "cell_type": "markdown",
   "metadata": {},
   "source": [
    "# 1. Подготовка данных"
   ]
  },
  {
   "cell_type": "code",
   "execution_count": 1,
   "metadata": {},
   "outputs": [
    {
     "name": "stdout",
     "output_type": "stream",
     "text": [
      "<class 'pandas.core.frame.DataFrame'>\n",
      "RangeIndex: 16860 entries, 0 to 16859\n",
      "Data columns (total 87 columns):\n",
      "date                                                  16860 non-null object\n",
      "final.output.concentrate_ag                           16788 non-null float64\n",
      "final.output.concentrate_pb                           16788 non-null float64\n",
      "final.output.concentrate_sol                          16490 non-null float64\n",
      "final.output.concentrate_au                           16789 non-null float64\n",
      "final.output.recovery                                 15339 non-null float64\n",
      "final.output.tail_ag                                  16794 non-null float64\n",
      "final.output.tail_pb                                  16677 non-null float64\n",
      "final.output.tail_sol                                 16715 non-null float64\n",
      "final.output.tail_au                                  16794 non-null float64\n",
      "primary_cleaner.input.sulfate                         15553 non-null float64\n",
      "primary_cleaner.input.depressant                      15598 non-null float64\n",
      "primary_cleaner.input.feed_size                       16860 non-null float64\n",
      "primary_cleaner.input.xanthate                        15875 non-null float64\n",
      "primary_cleaner.output.concentrate_ag                 16778 non-null float64\n",
      "primary_cleaner.output.concentrate_pb                 16502 non-null float64\n",
      "primary_cleaner.output.concentrate_sol                16224 non-null float64\n",
      "primary_cleaner.output.concentrate_au                 16778 non-null float64\n",
      "primary_cleaner.output.tail_ag                        16777 non-null float64\n",
      "primary_cleaner.output.tail_pb                        16761 non-null float64\n",
      "primary_cleaner.output.tail_sol                       16579 non-null float64\n",
      "primary_cleaner.output.tail_au                        16777 non-null float64\n",
      "primary_cleaner.state.floatbank8_a_air                16820 non-null float64\n",
      "primary_cleaner.state.floatbank8_a_level              16827 non-null float64\n",
      "primary_cleaner.state.floatbank8_b_air                16820 non-null float64\n",
      "primary_cleaner.state.floatbank8_b_level              16833 non-null float64\n",
      "primary_cleaner.state.floatbank8_c_air                16822 non-null float64\n",
      "primary_cleaner.state.floatbank8_c_level              16833 non-null float64\n",
      "primary_cleaner.state.floatbank8_d_air                16821 non-null float64\n",
      "primary_cleaner.state.floatbank8_d_level              16833 non-null float64\n",
      "rougher.calculation.sulfate_to_au_concentrate         16833 non-null float64\n",
      "rougher.calculation.floatbank10_sulfate_to_au_feed    16833 non-null float64\n",
      "rougher.calculation.floatbank11_sulfate_to_au_feed    16833 non-null float64\n",
      "rougher.calculation.au_pb_ratio                       15618 non-null float64\n",
      "rougher.input.feed_ag                                 16778 non-null float64\n",
      "rougher.input.feed_pb                                 16632 non-null float64\n",
      "rougher.input.feed_rate                               16347 non-null float64\n",
      "rougher.input.feed_size                               16443 non-null float64\n",
      "rougher.input.feed_sol                                16568 non-null float64\n",
      "rougher.input.feed_au                                 16777 non-null float64\n",
      "rougher.input.floatbank10_sulfate                     15816 non-null float64\n",
      "rougher.input.floatbank10_xanthate                    16514 non-null float64\n",
      "rougher.input.floatbank11_sulfate                     16237 non-null float64\n",
      "rougher.input.floatbank11_xanthate                    14956 non-null float64\n",
      "rougher.output.concentrate_ag                         16778 non-null float64\n",
      "rougher.output.concentrate_pb                         16778 non-null float64\n",
      "rougher.output.concentrate_sol                        16698 non-null float64\n",
      "rougher.output.concentrate_au                         16778 non-null float64\n",
      "rougher.output.recovery                               14287 non-null float64\n",
      "rougher.output.tail_ag                                14610 non-null float64\n",
      "rougher.output.tail_pb                                16778 non-null float64\n",
      "rougher.output.tail_sol                               14611 non-null float64\n",
      "rougher.output.tail_au                                14611 non-null float64\n",
      "rougher.state.floatbank10_a_air                       16807 non-null float64\n",
      "rougher.state.floatbank10_a_level                     16807 non-null float64\n",
      "rougher.state.floatbank10_b_air                       16807 non-null float64\n",
      "rougher.state.floatbank10_b_level                     16807 non-null float64\n",
      "rougher.state.floatbank10_c_air                       16807 non-null float64\n",
      "rougher.state.floatbank10_c_level                     16814 non-null float64\n",
      "rougher.state.floatbank10_d_air                       16802 non-null float64\n",
      "rougher.state.floatbank10_d_level                     16809 non-null float64\n",
      "rougher.state.floatbank10_e_air                       16257 non-null float64\n",
      "rougher.state.floatbank10_e_level                     16809 non-null float64\n",
      "rougher.state.floatbank10_f_air                       16802 non-null float64\n",
      "rougher.state.floatbank10_f_level                     16802 non-null float64\n",
      "secondary_cleaner.output.tail_ag                      16776 non-null float64\n",
      "secondary_cleaner.output.tail_pb                      16764 non-null float64\n",
      "secondary_cleaner.output.tail_sol                     14874 non-null float64\n",
      "secondary_cleaner.output.tail_au                      16778 non-null float64\n",
      "secondary_cleaner.state.floatbank2_a_air              16497 non-null float64\n",
      "secondary_cleaner.state.floatbank2_a_level            16751 non-null float64\n",
      "secondary_cleaner.state.floatbank2_b_air              16705 non-null float64\n",
      "secondary_cleaner.state.floatbank2_b_level            16748 non-null float64\n",
      "secondary_cleaner.state.floatbank3_a_air              16763 non-null float64\n",
      "secondary_cleaner.state.floatbank3_a_level            16747 non-null float64\n",
      "secondary_cleaner.state.floatbank3_b_air              16752 non-null float64\n",
      "secondary_cleaner.state.floatbank3_b_level            16750 non-null float64\n",
      "secondary_cleaner.state.floatbank4_a_air              16731 non-null float64\n",
      "secondary_cleaner.state.floatbank4_a_level            16747 non-null float64\n",
      "secondary_cleaner.state.floatbank4_b_air              16768 non-null float64\n",
      "secondary_cleaner.state.floatbank4_b_level            16767 non-null float64\n",
      "secondary_cleaner.state.floatbank5_a_air              16775 non-null float64\n",
      "secondary_cleaner.state.floatbank5_a_level            16775 non-null float64\n",
      "secondary_cleaner.state.floatbank5_b_air              16775 non-null float64\n",
      "secondary_cleaner.state.floatbank5_b_level            16776 non-null float64\n",
      "secondary_cleaner.state.floatbank6_a_air              16757 non-null float64\n",
      "secondary_cleaner.state.floatbank6_a_level            16775 non-null float64\n",
      "dtypes: float64(86), object(1)\n",
      "memory usage: 11.2+ MB\n",
      "None\n",
      "<class 'pandas.core.frame.DataFrame'>\n",
      "RangeIndex: 5856 entries, 0 to 5855\n",
      "Data columns (total 53 columns):\n",
      "date                                          5856 non-null object\n",
      "primary_cleaner.input.sulfate                 5554 non-null float64\n",
      "primary_cleaner.input.depressant              5572 non-null float64\n",
      "primary_cleaner.input.feed_size               5856 non-null float64\n",
      "primary_cleaner.input.xanthate                5690 non-null float64\n",
      "primary_cleaner.state.floatbank8_a_air        5840 non-null float64\n",
      "primary_cleaner.state.floatbank8_a_level      5840 non-null float64\n",
      "primary_cleaner.state.floatbank8_b_air        5840 non-null float64\n",
      "primary_cleaner.state.floatbank8_b_level      5840 non-null float64\n",
      "primary_cleaner.state.floatbank8_c_air        5840 non-null float64\n",
      "primary_cleaner.state.floatbank8_c_level      5840 non-null float64\n",
      "primary_cleaner.state.floatbank8_d_air        5840 non-null float64\n",
      "primary_cleaner.state.floatbank8_d_level      5840 non-null float64\n",
      "rougher.input.feed_ag                         5840 non-null float64\n",
      "rougher.input.feed_pb                         5840 non-null float64\n",
      "rougher.input.feed_rate                       5816 non-null float64\n",
      "rougher.input.feed_size                       5834 non-null float64\n",
      "rougher.input.feed_sol                        5789 non-null float64\n",
      "rougher.input.feed_au                         5840 non-null float64\n",
      "rougher.input.floatbank10_sulfate             5599 non-null float64\n",
      "rougher.input.floatbank10_xanthate            5733 non-null float64\n",
      "rougher.input.floatbank11_sulfate             5801 non-null float64\n",
      "rougher.input.floatbank11_xanthate            5503 non-null float64\n",
      "rougher.state.floatbank10_a_air               5839 non-null float64\n",
      "rougher.state.floatbank10_a_level             5840 non-null float64\n",
      "rougher.state.floatbank10_b_air               5839 non-null float64\n",
      "rougher.state.floatbank10_b_level             5840 non-null float64\n",
      "rougher.state.floatbank10_c_air               5839 non-null float64\n",
      "rougher.state.floatbank10_c_level             5840 non-null float64\n",
      "rougher.state.floatbank10_d_air               5839 non-null float64\n",
      "rougher.state.floatbank10_d_level             5840 non-null float64\n",
      "rougher.state.floatbank10_e_air               5839 non-null float64\n",
      "rougher.state.floatbank10_e_level             5840 non-null float64\n",
      "rougher.state.floatbank10_f_air               5839 non-null float64\n",
      "rougher.state.floatbank10_f_level             5840 non-null float64\n",
      "secondary_cleaner.state.floatbank2_a_air      5836 non-null float64\n",
      "secondary_cleaner.state.floatbank2_a_level    5840 non-null float64\n",
      "secondary_cleaner.state.floatbank2_b_air      5833 non-null float64\n",
      "secondary_cleaner.state.floatbank2_b_level    5840 non-null float64\n",
      "secondary_cleaner.state.floatbank3_a_air      5822 non-null float64\n",
      "secondary_cleaner.state.floatbank3_a_level    5840 non-null float64\n",
      "secondary_cleaner.state.floatbank3_b_air      5840 non-null float64\n",
      "secondary_cleaner.state.floatbank3_b_level    5840 non-null float64\n",
      "secondary_cleaner.state.floatbank4_a_air      5840 non-null float64\n",
      "secondary_cleaner.state.floatbank4_a_level    5840 non-null float64\n",
      "secondary_cleaner.state.floatbank4_b_air      5840 non-null float64\n",
      "secondary_cleaner.state.floatbank4_b_level    5840 non-null float64\n",
      "secondary_cleaner.state.floatbank5_a_air      5840 non-null float64\n",
      "secondary_cleaner.state.floatbank5_a_level    5840 non-null float64\n",
      "secondary_cleaner.state.floatbank5_b_air      5840 non-null float64\n",
      "secondary_cleaner.state.floatbank5_b_level    5840 non-null float64\n",
      "secondary_cleaner.state.floatbank6_a_air      5840 non-null float64\n",
      "secondary_cleaner.state.floatbank6_a_level    5840 non-null float64\n",
      "dtypes: float64(52), object(1)\n",
      "memory usage: 2.4+ MB\n",
      "None\n",
      "<class 'pandas.core.frame.DataFrame'>\n",
      "RangeIndex: 22716 entries, 0 to 22715\n",
      "Data columns (total 87 columns):\n",
      "date                                                  22716 non-null object\n",
      "final.output.concentrate_ag                           22627 non-null float64\n",
      "final.output.concentrate_pb                           22629 non-null float64\n",
      "final.output.concentrate_sol                          22331 non-null float64\n",
      "final.output.concentrate_au                           22630 non-null float64\n",
      "final.output.recovery                                 20753 non-null float64\n",
      "final.output.tail_ag                                  22633 non-null float64\n",
      "final.output.tail_pb                                  22516 non-null float64\n",
      "final.output.tail_sol                                 22445 non-null float64\n",
      "final.output.tail_au                                  22635 non-null float64\n",
      "primary_cleaner.input.sulfate                         21107 non-null float64\n",
      "primary_cleaner.input.depressant                      21170 non-null float64\n",
      "primary_cleaner.input.feed_size                       22716 non-null float64\n",
      "primary_cleaner.input.xanthate                        21565 non-null float64\n",
      "primary_cleaner.output.concentrate_ag                 22618 non-null float64\n",
      "primary_cleaner.output.concentrate_pb                 22268 non-null float64\n",
      "primary_cleaner.output.concentrate_sol                21918 non-null float64\n",
      "primary_cleaner.output.concentrate_au                 22618 non-null float64\n",
      "primary_cleaner.output.tail_ag                        22614 non-null float64\n",
      "primary_cleaner.output.tail_pb                        22594 non-null float64\n",
      "primary_cleaner.output.tail_sol                       22365 non-null float64\n",
      "primary_cleaner.output.tail_au                        22617 non-null float64\n",
      "primary_cleaner.state.floatbank8_a_air                22660 non-null float64\n",
      "primary_cleaner.state.floatbank8_a_level              22667 non-null float64\n",
      "primary_cleaner.state.floatbank8_b_air                22660 non-null float64\n",
      "primary_cleaner.state.floatbank8_b_level              22673 non-null float64\n",
      "primary_cleaner.state.floatbank8_c_air                22662 non-null float64\n",
      "primary_cleaner.state.floatbank8_c_level              22673 non-null float64\n",
      "primary_cleaner.state.floatbank8_d_air                22661 non-null float64\n",
      "primary_cleaner.state.floatbank8_d_level              22673 non-null float64\n",
      "rougher.calculation.sulfate_to_au_concentrate         22672 non-null float64\n",
      "rougher.calculation.floatbank10_sulfate_to_au_feed    22672 non-null float64\n",
      "rougher.calculation.floatbank11_sulfate_to_au_feed    22672 non-null float64\n",
      "rougher.calculation.au_pb_ratio                       21089 non-null float64\n",
      "rougher.input.feed_ag                                 22618 non-null float64\n",
      "rougher.input.feed_pb                                 22472 non-null float64\n",
      "rougher.input.feed_rate                               22163 non-null float64\n",
      "rougher.input.feed_size                               22277 non-null float64\n",
      "rougher.input.feed_sol                                22357 non-null float64\n",
      "rougher.input.feed_au                                 22617 non-null float64\n",
      "rougher.input.floatbank10_sulfate                     21415 non-null float64\n",
      "rougher.input.floatbank10_xanthate                    22247 non-null float64\n",
      "rougher.input.floatbank11_sulfate                     22038 non-null float64\n",
      "rougher.input.floatbank11_xanthate                    20459 non-null float64\n",
      "rougher.output.concentrate_ag                         22618 non-null float64\n",
      "rougher.output.concentrate_pb                         22618 non-null float64\n",
      "rougher.output.concentrate_sol                        22526 non-null float64\n",
      "rougher.output.concentrate_au                         22618 non-null float64\n",
      "rougher.output.recovery                               19597 non-null float64\n",
      "rougher.output.tail_ag                                19979 non-null float64\n",
      "rougher.output.tail_pb                                22618 non-null float64\n",
      "rougher.output.tail_sol                               19980 non-null float64\n",
      "rougher.output.tail_au                                19980 non-null float64\n",
      "rougher.state.floatbank10_a_air                       22646 non-null float64\n",
      "rougher.state.floatbank10_a_level                     22647 non-null float64\n",
      "rougher.state.floatbank10_b_air                       22646 non-null float64\n",
      "rougher.state.floatbank10_b_level                     22647 non-null float64\n",
      "rougher.state.floatbank10_c_air                       22646 non-null float64\n",
      "rougher.state.floatbank10_c_level                     22654 non-null float64\n",
      "rougher.state.floatbank10_d_air                       22641 non-null float64\n",
      "rougher.state.floatbank10_d_level                     22649 non-null float64\n",
      "rougher.state.floatbank10_e_air                       22096 non-null float64\n",
      "rougher.state.floatbank10_e_level                     22649 non-null float64\n",
      "rougher.state.floatbank10_f_air                       22641 non-null float64\n",
      "rougher.state.floatbank10_f_level                     22642 non-null float64\n",
      "secondary_cleaner.output.tail_ag                      22616 non-null float64\n",
      "secondary_cleaner.output.tail_pb                      22600 non-null float64\n",
      "secondary_cleaner.output.tail_sol                     20501 non-null float64\n",
      "secondary_cleaner.output.tail_au                      22618 non-null float64\n",
      "secondary_cleaner.state.floatbank2_a_air              22333 non-null float64\n",
      "secondary_cleaner.state.floatbank2_a_level            22591 non-null float64\n",
      "secondary_cleaner.state.floatbank2_b_air              22538 non-null float64\n",
      "secondary_cleaner.state.floatbank2_b_level            22588 non-null float64\n",
      "secondary_cleaner.state.floatbank3_a_air              22585 non-null float64\n",
      "secondary_cleaner.state.floatbank3_a_level            22587 non-null float64\n",
      "secondary_cleaner.state.floatbank3_b_air              22592 non-null float64\n",
      "secondary_cleaner.state.floatbank3_b_level            22590 non-null float64\n",
      "secondary_cleaner.state.floatbank4_a_air              22571 non-null float64\n",
      "secondary_cleaner.state.floatbank4_a_level            22587 non-null float64\n",
      "secondary_cleaner.state.floatbank4_b_air              22608 non-null float64\n",
      "secondary_cleaner.state.floatbank4_b_level            22607 non-null float64\n",
      "secondary_cleaner.state.floatbank5_a_air              22615 non-null float64\n",
      "secondary_cleaner.state.floatbank5_a_level            22615 non-null float64\n",
      "secondary_cleaner.state.floatbank5_b_air              22615 non-null float64\n",
      "secondary_cleaner.state.floatbank5_b_level            22616 non-null float64\n",
      "secondary_cleaner.state.floatbank6_a_air              22597 non-null float64\n",
      "secondary_cleaner.state.floatbank6_a_level            22615 non-null float64\n",
      "dtypes: float64(86), object(1)\n",
      "memory usage: 15.1+ MB\n",
      "None\n"
     ]
    }
   ],
   "source": [
    "import pandas as pd\n",
    "import numpy as np\n",
    "from sklearn.metrics import mean_squared_error\n",
    "from sklearn.metrics import mean_absolute_error\n",
    "from sklearn.model_selection import train_test_split\n",
    "from scipy import stats as st\n",
    "import matplotlib.pyplot as plt\n",
    "import seaborn as sns\n",
    "from sklearn.dummy import DummyRegressor\n",
    "from sklearn.tree import DecisionTreeRegressor\n",
    "from sklearn.ensemble import RandomForestRegressor\n",
    "from sklearn.linear_model import LinearRegression\n",
    "from sklearn.model_selection import cross_val_predict\n",
    "\n",
    "# данные\n",
    "train_data = pd.read_csv('/datasets/gold_recovery_train.csv')\n",
    "test_data = pd.read_csv('/datasets/gold_recovery_test.csv')\n",
    "full_data = pd.read_csv('/datasets/gold_recovery_full.csv')\n",
    "\n",
    "\n",
    "print(train_data.info())\n",
    "print(test_data.info())\n",
    "print(full_data.info())\n"
   ]
  },
  {
   "cell_type": "markdown",
   "metadata": {},
   "source": [
    "Данные загружены. В тестовой выборке отсутсвует часть признаков из обучающей.Имеются пропуски в столбцах."
   ]
  },
  {
   "cell_type": "code",
   "execution_count": 2,
   "metadata": {},
   "outputs": [
    {
     "data": {
      "text/html": [
       "<div>\n",
       "<style scoped>\n",
       "    .dataframe tbody tr th:only-of-type {\n",
       "        vertical-align: middle;\n",
       "    }\n",
       "\n",
       "    .dataframe tbody tr th {\n",
       "        vertical-align: top;\n",
       "    }\n",
       "\n",
       "    .dataframe thead th {\n",
       "        text-align: right;\n",
       "    }\n",
       "</style>\n",
       "<table border=\"1\" class=\"dataframe\">\n",
       "  <thead>\n",
       "    <tr style=\"text-align: right;\">\n",
       "      <th></th>\n",
       "      <th>date</th>\n",
       "      <th>final.output.concentrate_ag</th>\n",
       "      <th>final.output.concentrate_pb</th>\n",
       "      <th>final.output.concentrate_sol</th>\n",
       "      <th>final.output.concentrate_au</th>\n",
       "      <th>final.output.recovery</th>\n",
       "      <th>final.output.tail_ag</th>\n",
       "      <th>final.output.tail_pb</th>\n",
       "      <th>final.output.tail_sol</th>\n",
       "      <th>final.output.tail_au</th>\n",
       "      <th>...</th>\n",
       "      <th>secondary_cleaner.state.floatbank4_a_air</th>\n",
       "      <th>secondary_cleaner.state.floatbank4_a_level</th>\n",
       "      <th>secondary_cleaner.state.floatbank4_b_air</th>\n",
       "      <th>secondary_cleaner.state.floatbank4_b_level</th>\n",
       "      <th>secondary_cleaner.state.floatbank5_a_air</th>\n",
       "      <th>secondary_cleaner.state.floatbank5_a_level</th>\n",
       "      <th>secondary_cleaner.state.floatbank5_b_air</th>\n",
       "      <th>secondary_cleaner.state.floatbank5_b_level</th>\n",
       "      <th>secondary_cleaner.state.floatbank6_a_air</th>\n",
       "      <th>secondary_cleaner.state.floatbank6_a_level</th>\n",
       "    </tr>\n",
       "  </thead>\n",
       "  <tbody>\n",
       "    <tr>\n",
       "      <td>0</td>\n",
       "      <td>2016-01-15 00:00:00</td>\n",
       "      <td>6.055403</td>\n",
       "      <td>9.889648</td>\n",
       "      <td>5.507324</td>\n",
       "      <td>42.192020</td>\n",
       "      <td>70.541216</td>\n",
       "      <td>10.411962</td>\n",
       "      <td>0.895447</td>\n",
       "      <td>16.904297</td>\n",
       "      <td>2.143149</td>\n",
       "      <td>...</td>\n",
       "      <td>14.016835</td>\n",
       "      <td>-502.488007</td>\n",
       "      <td>12.099931</td>\n",
       "      <td>-504.715942</td>\n",
       "      <td>9.925633</td>\n",
       "      <td>-498.310211</td>\n",
       "      <td>8.079666</td>\n",
       "      <td>-500.470978</td>\n",
       "      <td>14.151341</td>\n",
       "      <td>-605.841980</td>\n",
       "    </tr>\n",
       "    <tr>\n",
       "      <td>1</td>\n",
       "      <td>2016-01-15 01:00:00</td>\n",
       "      <td>6.029369</td>\n",
       "      <td>9.968944</td>\n",
       "      <td>5.257781</td>\n",
       "      <td>42.701629</td>\n",
       "      <td>69.266198</td>\n",
       "      <td>10.462676</td>\n",
       "      <td>0.927452</td>\n",
       "      <td>16.634514</td>\n",
       "      <td>2.224930</td>\n",
       "      <td>...</td>\n",
       "      <td>13.992281</td>\n",
       "      <td>-505.503262</td>\n",
       "      <td>11.950531</td>\n",
       "      <td>-501.331529</td>\n",
       "      <td>10.039245</td>\n",
       "      <td>-500.169983</td>\n",
       "      <td>7.984757</td>\n",
       "      <td>-500.582168</td>\n",
       "      <td>13.998353</td>\n",
       "      <td>-599.787184</td>\n",
       "    </tr>\n",
       "    <tr>\n",
       "      <td>2</td>\n",
       "      <td>2016-01-15 02:00:00</td>\n",
       "      <td>6.055926</td>\n",
       "      <td>10.213995</td>\n",
       "      <td>5.383759</td>\n",
       "      <td>42.657501</td>\n",
       "      <td>68.116445</td>\n",
       "      <td>10.507046</td>\n",
       "      <td>0.953716</td>\n",
       "      <td>16.208849</td>\n",
       "      <td>2.257889</td>\n",
       "      <td>...</td>\n",
       "      <td>14.015015</td>\n",
       "      <td>-502.520901</td>\n",
       "      <td>11.912783</td>\n",
       "      <td>-501.133383</td>\n",
       "      <td>10.070913</td>\n",
       "      <td>-500.129135</td>\n",
       "      <td>8.013877</td>\n",
       "      <td>-500.517572</td>\n",
       "      <td>14.028663</td>\n",
       "      <td>-601.427363</td>\n",
       "    </tr>\n",
       "    <tr>\n",
       "      <td>3</td>\n",
       "      <td>2016-01-15 03:00:00</td>\n",
       "      <td>6.047977</td>\n",
       "      <td>9.977019</td>\n",
       "      <td>4.858634</td>\n",
       "      <td>42.689819</td>\n",
       "      <td>68.347543</td>\n",
       "      <td>10.422762</td>\n",
       "      <td>0.883763</td>\n",
       "      <td>16.532835</td>\n",
       "      <td>2.146849</td>\n",
       "      <td>...</td>\n",
       "      <td>14.036510</td>\n",
       "      <td>-500.857308</td>\n",
       "      <td>11.999550</td>\n",
       "      <td>-501.193686</td>\n",
       "      <td>9.970366</td>\n",
       "      <td>-499.201640</td>\n",
       "      <td>7.977324</td>\n",
       "      <td>-500.255908</td>\n",
       "      <td>14.005551</td>\n",
       "      <td>-599.996129</td>\n",
       "    </tr>\n",
       "    <tr>\n",
       "      <td>4</td>\n",
       "      <td>2016-01-15 04:00:00</td>\n",
       "      <td>6.148599</td>\n",
       "      <td>10.142511</td>\n",
       "      <td>4.939416</td>\n",
       "      <td>42.774141</td>\n",
       "      <td>66.927016</td>\n",
       "      <td>10.360302</td>\n",
       "      <td>0.792826</td>\n",
       "      <td>16.525686</td>\n",
       "      <td>2.055292</td>\n",
       "      <td>...</td>\n",
       "      <td>14.027298</td>\n",
       "      <td>-499.838632</td>\n",
       "      <td>11.953070</td>\n",
       "      <td>-501.053894</td>\n",
       "      <td>9.925709</td>\n",
       "      <td>-501.686727</td>\n",
       "      <td>7.894242</td>\n",
       "      <td>-500.356035</td>\n",
       "      <td>13.996647</td>\n",
       "      <td>-601.496691</td>\n",
       "    </tr>\n",
       "    <tr>\n",
       "      <td>...</td>\n",
       "      <td>...</td>\n",
       "      <td>...</td>\n",
       "      <td>...</td>\n",
       "      <td>...</td>\n",
       "      <td>...</td>\n",
       "      <td>...</td>\n",
       "      <td>...</td>\n",
       "      <td>...</td>\n",
       "      <td>...</td>\n",
       "      <td>...</td>\n",
       "      <td>...</td>\n",
       "      <td>...</td>\n",
       "      <td>...</td>\n",
       "      <td>...</td>\n",
       "      <td>...</td>\n",
       "      <td>...</td>\n",
       "      <td>...</td>\n",
       "      <td>...</td>\n",
       "      <td>...</td>\n",
       "      <td>...</td>\n",
       "      <td>...</td>\n",
       "    </tr>\n",
       "    <tr>\n",
       "      <td>16089</td>\n",
       "      <td>2018-08-18 06:59:59</td>\n",
       "      <td>3.224920</td>\n",
       "      <td>11.356233</td>\n",
       "      <td>6.803482</td>\n",
       "      <td>46.713954</td>\n",
       "      <td>73.755150</td>\n",
       "      <td>8.769645</td>\n",
       "      <td>3.141541</td>\n",
       "      <td>10.403181</td>\n",
       "      <td>1.529220</td>\n",
       "      <td>...</td>\n",
       "      <td>23.031497</td>\n",
       "      <td>-501.167942</td>\n",
       "      <td>20.007571</td>\n",
       "      <td>-499.740028</td>\n",
       "      <td>18.006038</td>\n",
       "      <td>-499.834374</td>\n",
       "      <td>13.001114</td>\n",
       "      <td>-500.155694</td>\n",
       "      <td>20.007840</td>\n",
       "      <td>-501.296428</td>\n",
       "    </tr>\n",
       "    <tr>\n",
       "      <td>16090</td>\n",
       "      <td>2018-08-18 07:59:59</td>\n",
       "      <td>3.195978</td>\n",
       "      <td>11.349355</td>\n",
       "      <td>6.862249</td>\n",
       "      <td>46.866780</td>\n",
       "      <td>69.049291</td>\n",
       "      <td>8.897321</td>\n",
       "      <td>3.130493</td>\n",
       "      <td>10.549470</td>\n",
       "      <td>1.612542</td>\n",
       "      <td>...</td>\n",
       "      <td>22.960095</td>\n",
       "      <td>-501.612783</td>\n",
       "      <td>20.035660</td>\n",
       "      <td>-500.251357</td>\n",
       "      <td>17.998535</td>\n",
       "      <td>-500.395178</td>\n",
       "      <td>12.954048</td>\n",
       "      <td>-499.895163</td>\n",
       "      <td>19.968498</td>\n",
       "      <td>-501.041608</td>\n",
       "    </tr>\n",
       "    <tr>\n",
       "      <td>16091</td>\n",
       "      <td>2018-08-18 08:59:59</td>\n",
       "      <td>3.109998</td>\n",
       "      <td>11.434366</td>\n",
       "      <td>6.886013</td>\n",
       "      <td>46.795691</td>\n",
       "      <td>67.002189</td>\n",
       "      <td>8.529606</td>\n",
       "      <td>2.911418</td>\n",
       "      <td>11.115147</td>\n",
       "      <td>1.596616</td>\n",
       "      <td>...</td>\n",
       "      <td>23.015718</td>\n",
       "      <td>-501.711599</td>\n",
       "      <td>19.951231</td>\n",
       "      <td>-499.857027</td>\n",
       "      <td>18.019543</td>\n",
       "      <td>-500.451156</td>\n",
       "      <td>13.023431</td>\n",
       "      <td>-499.914391</td>\n",
       "      <td>19.990885</td>\n",
       "      <td>-501.518452</td>\n",
       "    </tr>\n",
       "    <tr>\n",
       "      <td>16092</td>\n",
       "      <td>2018-08-18 09:59:59</td>\n",
       "      <td>3.367241</td>\n",
       "      <td>11.625587</td>\n",
       "      <td>6.799433</td>\n",
       "      <td>46.408188</td>\n",
       "      <td>65.523246</td>\n",
       "      <td>8.777171</td>\n",
       "      <td>2.819214</td>\n",
       "      <td>10.463847</td>\n",
       "      <td>1.602879</td>\n",
       "      <td>...</td>\n",
       "      <td>23.024963</td>\n",
       "      <td>-501.153409</td>\n",
       "      <td>20.054122</td>\n",
       "      <td>-500.314711</td>\n",
       "      <td>17.979515</td>\n",
       "      <td>-499.272871</td>\n",
       "      <td>12.992404</td>\n",
       "      <td>-499.976268</td>\n",
       "      <td>20.013986</td>\n",
       "      <td>-500.625471</td>\n",
       "    </tr>\n",
       "    <tr>\n",
       "      <td>16093</td>\n",
       "      <td>2018-08-18 10:59:59</td>\n",
       "      <td>3.598375</td>\n",
       "      <td>11.737832</td>\n",
       "      <td>6.717509</td>\n",
       "      <td>46.299438</td>\n",
       "      <td>70.281454</td>\n",
       "      <td>8.406690</td>\n",
       "      <td>2.517518</td>\n",
       "      <td>10.652193</td>\n",
       "      <td>1.389434</td>\n",
       "      <td>...</td>\n",
       "      <td>23.018622</td>\n",
       "      <td>-500.492702</td>\n",
       "      <td>20.020205</td>\n",
       "      <td>-500.220296</td>\n",
       "      <td>17.963512</td>\n",
       "      <td>-499.939490</td>\n",
       "      <td>12.990306</td>\n",
       "      <td>-500.080993</td>\n",
       "      <td>19.990336</td>\n",
       "      <td>-499.191575</td>\n",
       "    </tr>\n",
       "  </tbody>\n",
       "</table>\n",
       "<p>16094 rows × 87 columns</p>\n",
       "</div>"
      ],
      "text/plain": [
       "                      date  final.output.concentrate_ag  \\\n",
       "0      2016-01-15 00:00:00                     6.055403   \n",
       "1      2016-01-15 01:00:00                     6.029369   \n",
       "2      2016-01-15 02:00:00                     6.055926   \n",
       "3      2016-01-15 03:00:00                     6.047977   \n",
       "4      2016-01-15 04:00:00                     6.148599   \n",
       "...                    ...                          ...   \n",
       "16089  2018-08-18 06:59:59                     3.224920   \n",
       "16090  2018-08-18 07:59:59                     3.195978   \n",
       "16091  2018-08-18 08:59:59                     3.109998   \n",
       "16092  2018-08-18 09:59:59                     3.367241   \n",
       "16093  2018-08-18 10:59:59                     3.598375   \n",
       "\n",
       "       final.output.concentrate_pb  final.output.concentrate_sol  \\\n",
       "0                         9.889648                      5.507324   \n",
       "1                         9.968944                      5.257781   \n",
       "2                        10.213995                      5.383759   \n",
       "3                         9.977019                      4.858634   \n",
       "4                        10.142511                      4.939416   \n",
       "...                            ...                           ...   \n",
       "16089                    11.356233                      6.803482   \n",
       "16090                    11.349355                      6.862249   \n",
       "16091                    11.434366                      6.886013   \n",
       "16092                    11.625587                      6.799433   \n",
       "16093                    11.737832                      6.717509   \n",
       "\n",
       "       final.output.concentrate_au  final.output.recovery  \\\n",
       "0                        42.192020              70.541216   \n",
       "1                        42.701629              69.266198   \n",
       "2                        42.657501              68.116445   \n",
       "3                        42.689819              68.347543   \n",
       "4                        42.774141              66.927016   \n",
       "...                            ...                    ...   \n",
       "16089                    46.713954              73.755150   \n",
       "16090                    46.866780              69.049291   \n",
       "16091                    46.795691              67.002189   \n",
       "16092                    46.408188              65.523246   \n",
       "16093                    46.299438              70.281454   \n",
       "\n",
       "       final.output.tail_ag  final.output.tail_pb  final.output.tail_sol  \\\n",
       "0                 10.411962              0.895447              16.904297   \n",
       "1                 10.462676              0.927452              16.634514   \n",
       "2                 10.507046              0.953716              16.208849   \n",
       "3                 10.422762              0.883763              16.532835   \n",
       "4                 10.360302              0.792826              16.525686   \n",
       "...                     ...                   ...                    ...   \n",
       "16089              8.769645              3.141541              10.403181   \n",
       "16090              8.897321              3.130493              10.549470   \n",
       "16091              8.529606              2.911418              11.115147   \n",
       "16092              8.777171              2.819214              10.463847   \n",
       "16093              8.406690              2.517518              10.652193   \n",
       "\n",
       "       final.output.tail_au  ...  secondary_cleaner.state.floatbank4_a_air  \\\n",
       "0                  2.143149  ...                                 14.016835   \n",
       "1                  2.224930  ...                                 13.992281   \n",
       "2                  2.257889  ...                                 14.015015   \n",
       "3                  2.146849  ...                                 14.036510   \n",
       "4                  2.055292  ...                                 14.027298   \n",
       "...                     ...  ...                                       ...   \n",
       "16089              1.529220  ...                                 23.031497   \n",
       "16090              1.612542  ...                                 22.960095   \n",
       "16091              1.596616  ...                                 23.015718   \n",
       "16092              1.602879  ...                                 23.024963   \n",
       "16093              1.389434  ...                                 23.018622   \n",
       "\n",
       "       secondary_cleaner.state.floatbank4_a_level  \\\n",
       "0                                     -502.488007   \n",
       "1                                     -505.503262   \n",
       "2                                     -502.520901   \n",
       "3                                     -500.857308   \n",
       "4                                     -499.838632   \n",
       "...                                           ...   \n",
       "16089                                 -501.167942   \n",
       "16090                                 -501.612783   \n",
       "16091                                 -501.711599   \n",
       "16092                                 -501.153409   \n",
       "16093                                 -500.492702   \n",
       "\n",
       "       secondary_cleaner.state.floatbank4_b_air  \\\n",
       "0                                     12.099931   \n",
       "1                                     11.950531   \n",
       "2                                     11.912783   \n",
       "3                                     11.999550   \n",
       "4                                     11.953070   \n",
       "...                                         ...   \n",
       "16089                                 20.007571   \n",
       "16090                                 20.035660   \n",
       "16091                                 19.951231   \n",
       "16092                                 20.054122   \n",
       "16093                                 20.020205   \n",
       "\n",
       "       secondary_cleaner.state.floatbank4_b_level  \\\n",
       "0                                     -504.715942   \n",
       "1                                     -501.331529   \n",
       "2                                     -501.133383   \n",
       "3                                     -501.193686   \n",
       "4                                     -501.053894   \n",
       "...                                           ...   \n",
       "16089                                 -499.740028   \n",
       "16090                                 -500.251357   \n",
       "16091                                 -499.857027   \n",
       "16092                                 -500.314711   \n",
       "16093                                 -500.220296   \n",
       "\n",
       "       secondary_cleaner.state.floatbank5_a_air  \\\n",
       "0                                      9.925633   \n",
       "1                                     10.039245   \n",
       "2                                     10.070913   \n",
       "3                                      9.970366   \n",
       "4                                      9.925709   \n",
       "...                                         ...   \n",
       "16089                                 18.006038   \n",
       "16090                                 17.998535   \n",
       "16091                                 18.019543   \n",
       "16092                                 17.979515   \n",
       "16093                                 17.963512   \n",
       "\n",
       "       secondary_cleaner.state.floatbank5_a_level  \\\n",
       "0                                     -498.310211   \n",
       "1                                     -500.169983   \n",
       "2                                     -500.129135   \n",
       "3                                     -499.201640   \n",
       "4                                     -501.686727   \n",
       "...                                           ...   \n",
       "16089                                 -499.834374   \n",
       "16090                                 -500.395178   \n",
       "16091                                 -500.451156   \n",
       "16092                                 -499.272871   \n",
       "16093                                 -499.939490   \n",
       "\n",
       "       secondary_cleaner.state.floatbank5_b_air  \\\n",
       "0                                      8.079666   \n",
       "1                                      7.984757   \n",
       "2                                      8.013877   \n",
       "3                                      7.977324   \n",
       "4                                      7.894242   \n",
       "...                                         ...   \n",
       "16089                                 13.001114   \n",
       "16090                                 12.954048   \n",
       "16091                                 13.023431   \n",
       "16092                                 12.992404   \n",
       "16093                                 12.990306   \n",
       "\n",
       "       secondary_cleaner.state.floatbank5_b_level  \\\n",
       "0                                     -500.470978   \n",
       "1                                     -500.582168   \n",
       "2                                     -500.517572   \n",
       "3                                     -500.255908   \n",
       "4                                     -500.356035   \n",
       "...                                           ...   \n",
       "16089                                 -500.155694   \n",
       "16090                                 -499.895163   \n",
       "16091                                 -499.914391   \n",
       "16092                                 -499.976268   \n",
       "16093                                 -500.080993   \n",
       "\n",
       "       secondary_cleaner.state.floatbank6_a_air  \\\n",
       "0                                     14.151341   \n",
       "1                                     13.998353   \n",
       "2                                     14.028663   \n",
       "3                                     14.005551   \n",
       "4                                     13.996647   \n",
       "...                                         ...   \n",
       "16089                                 20.007840   \n",
       "16090                                 19.968498   \n",
       "16091                                 19.990885   \n",
       "16092                                 20.013986   \n",
       "16093                                 19.990336   \n",
       "\n",
       "       secondary_cleaner.state.floatbank6_a_level  \n",
       "0                                     -605.841980  \n",
       "1                                     -599.787184  \n",
       "2                                     -601.427363  \n",
       "3                                     -599.996129  \n",
       "4                                     -601.496691  \n",
       "...                                           ...  \n",
       "16089                                 -501.296428  \n",
       "16090                                 -501.041608  \n",
       "16091                                 -501.518452  \n",
       "16092                                 -500.625471  \n",
       "16093                                 -499.191575  \n",
       "\n",
       "[16094 rows x 87 columns]"
      ]
     },
     "execution_count": 2,
     "metadata": {},
     "output_type": "execute_result"
    }
   ],
   "source": [
    "train_data=train_data.dropna()\n",
    "train_data.reset_index(drop=True)\n",
    "test_data=test_data.dropna()\n",
    "test_data.reset_index(drop=True)\n",
    "full_data=full_data.dropna()\n",
    "full_data.reset_index(drop=True)"
   ]
  },
  {
   "cell_type": "markdown",
   "metadata": {},
   "source": [
    "Тк пропуски зависят не только от времени, а еще от других факторов - удалим строки с пропусками и сбросим индексы."
   ]
  },
  {
   "cell_type": "code",
   "execution_count": 3,
   "metadata": {},
   "outputs": [
    {
     "name": "stdout",
     "output_type": "stream",
     "text": [
      "MAE\n",
      "9.555596961987514e-15\n"
     ]
    }
   ],
   "source": [
    "#вычисляем rougher.output.recovery\n",
    "rougher_output_recovery_calc = (train_data['rougher.output.concentrate_au']*(train_data['rougher.input.feed_au']-train_data['rougher.output.tail_au']))/(train_data['rougher.input.feed_au']*(train_data['rougher.output.concentrate_au']-train_data['rougher.output.tail_au'])) * 100\n",
    "rougher_output_recovery_train = train_data['rougher.output.recovery']\n",
    "print(\"MAE\")\n",
    "print(mean_absolute_error(rougher_output_recovery_calc, rougher_output_recovery_train))"
   ]
  },
  {
   "cell_type": "markdown",
   "metadata": {},
   "source": [
    "МАЕ принимает очень маленькое значение - разница незначительна, эффективность обогащения рассчитана правильно. "
   ]
  },
  {
   "cell_type": "code",
   "execution_count": 4,
   "metadata": {},
   "outputs": [
    {
     "name": "stdout",
     "output_type": "stream",
     "text": [
      "{'final.output.tail_ag', 'rougher.output.recovery', 'rougher.output.tail_ag', 'final.output.concentrate_pb', 'final.output.tail_sol', 'rougher.calculation.au_pb_ratio', 'rougher.calculation.floatbank11_sulfate_to_au_feed', 'rougher.calculation.sulfate_to_au_concentrate', 'primary_cleaner.output.concentrate_au', 'rougher.output.tail_au', 'secondary_cleaner.output.tail_ag', 'secondary_cleaner.output.tail_au', 'final.output.concentrate_au', 'final.output.tail_pb', 'primary_cleaner.output.tail_au', 'rougher.output.concentrate_au', 'rougher.calculation.floatbank10_sulfate_to_au_feed', 'secondary_cleaner.output.tail_sol', 'primary_cleaner.output.tail_ag', 'primary_cleaner.output.tail_sol', 'final.output.concentrate_ag', 'primary_cleaner.output.concentrate_sol', 'final.output.concentrate_sol', 'primary_cleaner.output.concentrate_ag', 'rougher.output.concentrate_pb', 'final.output.tail_au', 'rougher.output.concentrate_sol', 'rougher.output.concentrate_ag', 'primary_cleaner.output.concentrate_pb', 'rougher.output.tail_sol', 'primary_cleaner.output.tail_pb', 'rougher.output.tail_pb', 'final.output.recovery', 'secondary_cleaner.output.tail_pb'}\n"
     ]
    }
   ],
   "source": [
    "train_extra_features = set(train_data.columns) - set(test_data.columns)# признаки, которые есть в обучающей, но нет в тестовой\n",
    "print(train_extra_features)"
   ]
  },
  {
   "cell_type": "markdown",
   "metadata": {},
   "source": [
    "Обучающая выборка и тестовая выборка отличаются набором признаков. Призаки появились не сразу, а спустя какое-то время(после флотации, очистки). Чтобы избежать утечки целевого признака, оставим в обучающей выборке только признаки из тестовой, так как в тестовой есть состояние сырья только на начальном этапе. Однако, сперва следует добваить в тестовую выборку целевые признаки."
   ]
  },
  {
   "cell_type": "code",
   "execution_count": 5,
   "metadata": {},
   "outputs": [],
   "source": [
    "cols_to_use = full_data.columns.difference(test_data.columns)# чтобы одинаковые столбцы не повторялись при merge\n",
    "df1 = pd.merge(test_data,full_data[cols_to_use],left_index=True, right_index=True, how='left')\n",
    "\n",
    "test_data['rougher.output.recovery'] = df1['rougher.output.recovery'] # первый целевой признак\n",
    "test_data['final.output.recovery'] = df1['final.output.recovery'] # второй целевой признак\n"
   ]
  },
  {
   "cell_type": "markdown",
   "metadata": {},
   "source": [
    "Целевые признаки добавлены в тестовую выборку."
   ]
  },
  {
   "cell_type": "code",
   "execution_count": 6,
   "metadata": {},
   "outputs": [
    {
     "name": "stdout",
     "output_type": "stream",
     "text": [
      "<class 'pandas.core.frame.DataFrame'>\n",
      "Int64Index: 11017 entries, 0 to 16859\n",
      "Data columns (total 55 columns):\n",
      "date                                          11017 non-null object\n",
      "final.output.recovery                         11017 non-null float64\n",
      "primary_cleaner.input.sulfate                 11017 non-null float64\n",
      "primary_cleaner.input.depressant              11017 non-null float64\n",
      "primary_cleaner.input.feed_size               11017 non-null float64\n",
      "primary_cleaner.input.xanthate                11017 non-null float64\n",
      "primary_cleaner.state.floatbank8_a_air        11017 non-null float64\n",
      "primary_cleaner.state.floatbank8_a_level      11017 non-null float64\n",
      "primary_cleaner.state.floatbank8_b_air        11017 non-null float64\n",
      "primary_cleaner.state.floatbank8_b_level      11017 non-null float64\n",
      "primary_cleaner.state.floatbank8_c_air        11017 non-null float64\n",
      "primary_cleaner.state.floatbank8_c_level      11017 non-null float64\n",
      "primary_cleaner.state.floatbank8_d_air        11017 non-null float64\n",
      "primary_cleaner.state.floatbank8_d_level      11017 non-null float64\n",
      "rougher.input.feed_ag                         11017 non-null float64\n",
      "rougher.input.feed_pb                         11017 non-null float64\n",
      "rougher.input.feed_rate                       11017 non-null float64\n",
      "rougher.input.feed_size                       11017 non-null float64\n",
      "rougher.input.feed_sol                        11017 non-null float64\n",
      "rougher.input.feed_au                         11017 non-null float64\n",
      "rougher.input.floatbank10_sulfate             11017 non-null float64\n",
      "rougher.input.floatbank10_xanthate            11017 non-null float64\n",
      "rougher.input.floatbank11_sulfate             11017 non-null float64\n",
      "rougher.input.floatbank11_xanthate            11017 non-null float64\n",
      "rougher.output.recovery                       11017 non-null float64\n",
      "rougher.state.floatbank10_a_air               11017 non-null float64\n",
      "rougher.state.floatbank10_a_level             11017 non-null float64\n",
      "rougher.state.floatbank10_b_air               11017 non-null float64\n",
      "rougher.state.floatbank10_b_level             11017 non-null float64\n",
      "rougher.state.floatbank10_c_air               11017 non-null float64\n",
      "rougher.state.floatbank10_c_level             11017 non-null float64\n",
      "rougher.state.floatbank10_d_air               11017 non-null float64\n",
      "rougher.state.floatbank10_d_level             11017 non-null float64\n",
      "rougher.state.floatbank10_e_air               11017 non-null float64\n",
      "rougher.state.floatbank10_e_level             11017 non-null float64\n",
      "rougher.state.floatbank10_f_air               11017 non-null float64\n",
      "rougher.state.floatbank10_f_level             11017 non-null float64\n",
      "secondary_cleaner.state.floatbank2_a_air      11017 non-null float64\n",
      "secondary_cleaner.state.floatbank2_a_level    11017 non-null float64\n",
      "secondary_cleaner.state.floatbank2_b_air      11017 non-null float64\n",
      "secondary_cleaner.state.floatbank2_b_level    11017 non-null float64\n",
      "secondary_cleaner.state.floatbank3_a_air      11017 non-null float64\n",
      "secondary_cleaner.state.floatbank3_a_level    11017 non-null float64\n",
      "secondary_cleaner.state.floatbank3_b_air      11017 non-null float64\n",
      "secondary_cleaner.state.floatbank3_b_level    11017 non-null float64\n",
      "secondary_cleaner.state.floatbank4_a_air      11017 non-null float64\n",
      "secondary_cleaner.state.floatbank4_a_level    11017 non-null float64\n",
      "secondary_cleaner.state.floatbank4_b_air      11017 non-null float64\n",
      "secondary_cleaner.state.floatbank4_b_level    11017 non-null float64\n",
      "secondary_cleaner.state.floatbank5_a_air      11017 non-null float64\n",
      "secondary_cleaner.state.floatbank5_a_level    11017 non-null float64\n",
      "secondary_cleaner.state.floatbank5_b_air      11017 non-null float64\n",
      "secondary_cleaner.state.floatbank5_b_level    11017 non-null float64\n",
      "secondary_cleaner.state.floatbank6_a_air      11017 non-null float64\n",
      "secondary_cleaner.state.floatbank6_a_level    11017 non-null float64\n",
      "dtypes: float64(54), object(1)\n",
      "memory usage: 4.7+ MB\n",
      "None\n"
     ]
    }
   ],
   "source": [
    "train_data = train_data[train_data.columns.intersection(test_data.columns)]\n",
    "\n",
    "print(train_data.info())"
   ]
  },
  {
   "cell_type": "markdown",
   "metadata": {},
   "source": [
    "В обучающей выборке оставлены только признаки из тестовой(осталась только концентрация металлов до флотации и параметры, характеризующие текущее состояние этапов ), чтобы избежать утечки целевого признака."
   ]
  },
  {
   "cell_type": "code",
   "execution_count": 7,
   "metadata": {},
   "outputs": [],
   "source": [
    "train_data = train_data.drop(['date'], axis = 1)\n",
    "test_data = test_data.drop(['date'], axis = 1)"
   ]
  },
  {
   "cell_type": "markdown",
   "metadata": {},
   "source": [
    "Столбец с датой не нужен для оценки, удаляем."
   ]
  },
  {
   "cell_type": "markdown",
   "metadata": {},
   "source": [
    "Итого: пропуски обработаны, в тестовую выборку добавлены целевые признаки, в обучающей оставлены только признаки из тестовой."
   ]
  },
  {
   "cell_type": "markdown",
   "metadata": {},
   "source": [
    "# 2. Анализ данных"
   ]
  },
  {
   "cell_type": "code",
   "execution_count": 8,
   "metadata": {},
   "outputs": [
    {
     "data": {
      "image/png": "[encoded data removed]",
      "text/plain": [
       "<Figure size 720x432 with 1 Axes>"
      ]
     },
     "metadata": {
      "needs_background": "light"
     },
     "output_type": "display_data"
    }
   ],
   "source": [
    "plt.figure(figsize=(10, 6))\n",
    "sns.set(style='whitegrid')\n",
    "sns.boxplot(data=full_data[['rougher.output.concentrate_au', \n",
    "                            'primary_cleaner.output.concentrate_au', \n",
    "                            'final.output.concentrate_au']]).set_title('Концентрация Au')\n",
    "\n",
    "plt.xticks([0, 1, 2], ['черновой концентрат', 'после 1 этапа', 'после 2 этапа'])\n",
    "plt.show()\n",
    "\n",
    "\n"
   ]
  },
  {
   "cell_type": "markdown",
   "metadata": {},
   "source": [
    "Концентрация золота с каждым этапом увеличивается. Большинство аномалий меньше Q1."
   ]
  },
  {
   "cell_type": "code",
   "execution_count": 9,
   "metadata": {},
   "outputs": [
    {
     "data": {
      "image/png": "[encoded data removed]",
      "text/plain": [
       "<Figure size 720x432 with 1 Axes>"
      ]
     },
     "metadata": {},
     "output_type": "display_data"
    }
   ],
   "source": [
    "plt.figure(figsize=(10, 6))\n",
    "sns.set(style='whitegrid')\n",
    "sns.boxplot(data=full_data[['rougher.output.concentrate_ag', \n",
    "                            'primary_cleaner.output.concentrate_ag', \n",
    "                            'final.output.concentrate_ag']]).set_title('Концентрация Ag')\n",
    "\n",
    "plt.xticks([0, 1, 2], ['черновой концентрат', 'после 1 этапа', 'после 2 этапа'])\n",
    "plt.show()\n"
   ]
  },
  {
   "cell_type": "markdown",
   "metadata": {},
   "source": [
    "Концентрация серебра уменьшается с каждым этапом.Большинство аномалий меньше Q1."
   ]
  },
  {
   "cell_type": "code",
   "execution_count": 10,
   "metadata": {},
   "outputs": [
    {
     "data": {
      "image/png": "[encoded data removed]",
      "text/plain": [
       "<Figure size 720x432 with 1 Axes>"
      ]
     },
     "metadata": {},
     "output_type": "display_data"
    }
   ],
   "source": [
    "plt.figure(figsize=(10, 6))\n",
    "sns.set(style='whitegrid')\n",
    "sns.boxplot(data=full_data[['rougher.output.concentrate_pb', \n",
    "                            'primary_cleaner.output.concentrate_pb', \n",
    "                            'final.output.concentrate_pb']]).set_title('Концентрация Pb')\n",
    "\n",
    "plt.xticks([0, 1, 2], ['черновой концентрат', 'после 1 этапа', 'после 2 этапа'])\n",
    "plt.show()\n"
   ]
  },
  {
   "cell_type": "markdown",
   "metadata": {},
   "source": [
    "Концентрация свинца увеличивается после флотации, далее остается на том же уровне.Большинство аномалий меньше Q1."
   ]
  },
  {
   "cell_type": "code",
   "execution_count": 11,
   "metadata": {},
   "outputs": [
    {
     "data": {
      "image/png": "[encoded data removed]",
      "text/plain": [
       "<Figure size 1152x576 with 1 Axes>"
      ]
     },
     "metadata": {},
     "output_type": "display_data"
    }
   ],
   "source": [
    "#распределениe размеров гранул сырья на обучающей и тестовой выборках\n",
    "\n",
    "plt.figure(figsize=(16, 8))\n",
    "sns.set(style='darkgrid')\n",
    "sns.distplot(train_data[['rougher.input.feed_size']],  label='Размер гранул в обучающей выборке')\n",
    "sns.distplot(test_data[['rougher.input.feed_size']], label='Размер гранул в тестовой выборке')\n",
    "plt.legend()\n",
    "plt.show()"
   ]
  },
  {
   "cell_type": "markdown",
   "metadata": {},
   "source": [
    "Распределения на тестовой и обучающей выборках практически совпадают, оценка модели будет корректной."
   ]
  },
  {
   "cell_type": "code",
   "execution_count": 12,
   "metadata": {},
   "outputs": [
    {
     "data": {
      "image/png": "[encoded data removed]",
      "text/plain": [
       "<Figure size 720x432 with 1 Axes>"
      ]
     },
     "metadata": {},
     "output_type": "display_data"
    }
   ],
   "source": [
    "full_data['feed_sum'] = full_data['rougher.input.feed_ag']+full_data['rougher.input.feed_au']+full_data['rougher.input.feed_pb']+full_data['rougher.input.feed_sol']\n",
    "full_data['primary_sum']= full_data['rougher.output.concentrate_ag']+full_data['rougher.output.concentrate_au']+full_data['rougher.output.concentrate_pb']+full_data['rougher.output.concentrate_sol']\n",
    "full_data['final_sum'] = full_data['final.output.concentrate_ag']+full_data['final.output.concentrate_au']+full_data['final.output.concentrate_pb']+full_data['final.output.concentrate_sol']\n",
    "\n",
    "\n",
    "#для оценки изменения суммарной концентрации металлов  на каждом этапе\n",
    "# feed_sum - сырьё\n",
    "# primary_sum - черновой концентрат \n",
    "# final_sum - финальный концентрат\n",
    "\n",
    "\n",
    "plt.figure(figsize=(10, 6))\n",
    "sns.set(style='whitegrid')\n",
    "sns.boxplot(data=full_data[['feed_sum', \n",
    "                            'primary_sum', \n",
    "                            'final_sum']]).set_title('Суммарная концентрация')\n",
    "\n",
    "plt.xticks([0, 1, 2], ['сырьё', 'черновой концентрат ', 'финальный концентрат'])\n",
    "plt.show()\n",
    "\n",
    "\n"
   ]
  },
  {
   "cell_type": "markdown",
   "metadata": {},
   "source": [
    "Суммарная концентрация(исходные данные) - растет, но выбросов с каждым этапом становится больше."
   ]
  },
  {
   "cell_type": "code",
   "execution_count": 13,
   "metadata": {},
   "outputs": [
    {
     "data": {
      "image/png": "[encoded data removed]",
      "text/plain": [
       "<Figure size 720x432 with 1 Axes>"
      ]
     },
     "metadata": {},
     "output_type": "display_data"
    }
   ],
   "source": [
    "train_data['feed_sum'] = train_data['rougher.input.feed_ag']+train_data['rougher.input.feed_au']+train_data['rougher.input.feed_pb']+train_data['rougher.input.feed_sol']\n",
    "\n",
    "plt.figure(figsize=(10, 6))\n",
    "sns.set(style='whitegrid')\n",
    "sns.boxplot(data=train_data[['feed_sum']]).set_title('Суммарная концентрация(обучающая выборка)')\n",
    "\n",
    "plt.xticks([0], ['сырьё'])\n",
    "plt.show()"
   ]
  },
  {
   "cell_type": "code",
   "execution_count": 14,
   "metadata": {},
   "outputs": [
    {
     "data": {
      "image/png": "[encoded data removed]",
      "text/plain": [
       "<Figure size 720x432 with 1 Axes>"
      ]
     },
     "metadata": {},
     "output_type": "display_data"
    }
   ],
   "source": [
    "test_data['feed_sum'] = test_data['rougher.input.feed_ag']+test_data['rougher.input.feed_au']+test_data['rougher.input.feed_pb']+test_data['rougher.input.feed_sol']\n",
    "\n",
    "plt.figure(figsize=(10, 6))\n",
    "sns.set(style='whitegrid')\n",
    "sns.boxplot(data=test_data[['feed_sum']]).set_title('Суммарная концентрация(тестовая выборка)')\n",
    "\n",
    "plt.xticks([0], ['сырьё'])\n",
    "plt.show()"
   ]
  },
  {
   "cell_type": "markdown",
   "metadata": {},
   "source": [
    "Тк выбросов с каждым этапом очистки становится все больше - они могут повлиять на качество модели. Большинство аномалий сосредоточено ниже Q1(~43) - удалим из выборок строки, где суммарная концентрация <= 43."
   ]
  },
  {
   "cell_type": "code",
   "execution_count": 15,
   "metadata": {},
   "outputs": [],
   "source": [
    "train_data = train_data.query('feed_sum > 43')\n",
    "test_data = test_data.query('feed_sum > 43')\n"
   ]
  },
  {
   "cell_type": "markdown",
   "metadata": {},
   "source": [
    "Аномалии удалены из тестовой и обучающей выборок."
   ]
  },
  {
   "cell_type": "markdown",
   "metadata": {},
   "source": [
    "# 3. Модель"
   ]
  },
  {
   "cell_type": "code",
   "execution_count": 16,
   "metadata": {},
   "outputs": [],
   "source": [
    "#sMAPE\n",
    "\n",
    "def smape(target, predicted):\n",
    "    return 100/len(target) * np.sum(2 * np.abs(target - predicted) / (np.abs(target) + np.abs(predicted)))"
   ]
  },
  {
   "cell_type": "markdown",
   "metadata": {},
   "source": [
    "Функция для подсчёта sMAPE готова."
   ]
  },
  {
   "cell_type": "code",
   "execution_count": 17,
   "metadata": {},
   "outputs": [],
   "source": [
    "features_train = train_data.drop(['rougher.output.recovery', 'final.output.recovery', 'feed_sum'], axis=1)\n",
    "target_train_rougher = train_data['rougher.output.recovery']\n",
    "target_train_final = train_data['final.output.recovery']\n"
   ]
  },
  {
   "cell_type": "markdown",
   "metadata": {},
   "source": [
    "Признаки и два целевых признака обучающей выборки готовы."
   ]
  },
  {
   "cell_type": "code",
   "execution_count": 18,
   "metadata": {},
   "outputs": [
    {
     "name": "stdout",
     "output_type": "stream",
     "text": [
      "дерево решений\n",
      "max_depth = 1 итоговое smape: 9.13582942449145\n",
      "max_depth = 2 итоговое smape: 10.247629919797383\n",
      "max_depth = 3 итоговое smape: 10.067125346273547\n",
      "max_depth = 4 итоговое smape: 10.427513096322315\n",
      "max_depth = 5 итоговое smape: 11.223396195050306\n",
      "max_depth = 6 итоговое smape: 16.070731809641288\n",
      "max_depth = 7 итоговое smape: 17.79071782971318\n",
      "max_depth = 8 итоговое smape: 18.01318108268881\n",
      "max_depth = 9 итоговое smape: 18.11935421490437\n",
      "max_depth = 10 итоговое smape: 19.737249391772018\n"
     ]
    }
   ],
   "source": [
    "# подбираем параметры разных моделей\n",
    "print('дерево решений')\n",
    "for i in range(1, 11):\n",
    "    model1 = DecisionTreeRegressor(random_state=12345, max_depth=i)\n",
    "    rougher_predict_tree= cross_val_predict(model1, features_train, target_train_rougher, cv=5)\n",
    "    final_predict_tree= cross_val_predict(model1, features_train, target_train_final, cv=5)\n",
    "    smape_rougher_tree = smape(target_train_rougher,rougher_predict_tree)\n",
    "    smape_final_tree = smape(target_train_final,final_predict_tree)\n",
    "    final_smape_tree = 0.25 * smape_rougher_tree + 0.75 * smape_final_tree\n",
    "    print(\"max_depth =\", i, \"итоговое smape:\",final_smape_tree)"
   ]
  },
  {
   "cell_type": "markdown",
   "metadata": {},
   "source": [
    "Лучшее sMAPE для дерева решений 9.13582942449145"
   ]
  },
  {
   "cell_type": "code",
   "execution_count": 19,
   "metadata": {},
   "outputs": [
    {
     "name": "stdout",
     "output_type": "stream",
     "text": [
      "случайный лес\n",
      "n_estimators = 10 depth = 1 итоговое smape: 9.129380756607837\n",
      "n_estimators = 10 depth = 2 итоговое smape: 9.96509374199084\n",
      "n_estimators = 10 depth = 3 итоговое smape: 9.898751755999758\n",
      "n_estimators = 10 depth = 4 итоговое smape: 10.243449239976844\n",
      "n_estimators = 10 depth = 5 итоговое smape: 10.382606586167467\n",
      "n_estimators = 10 depth = 6 итоговое smape: 10.918916967680442\n",
      "n_estimators = 10 depth = 7 итоговое smape: 12.029216302215968\n",
      "n_estimators = 10 depth = 8 итоговое smape: 11.997435455898419\n",
      "n_estimators = 10 depth = 9 итоговое smape: 12.392298493348008\n",
      "n_estimators = 10 depth = 10 итоговое smape: 12.50855556966015\n",
      "n_estimators = 20 depth = 1 итоговое smape: 9.132332225379962\n",
      "n_estimators = 20 depth = 2 итоговое smape: 9.899159307213083\n",
      "n_estimators = 20 depth = 3 итоговое smape: 9.765851563783821\n",
      "n_estimators = 20 depth = 4 итоговое smape: 9.917193729810393\n",
      "n_estimators = 20 depth = 5 итоговое smape: 10.033262690231414\n",
      "n_estimators = 20 depth = 6 итоговое smape: 10.23867316241054\n",
      "n_estimators = 20 depth = 7 итоговое smape: 10.793974342240563\n",
      "n_estimators = 20 depth = 8 итоговое smape: 10.863535792136243\n",
      "n_estimators = 20 depth = 9 итоговое smape: 11.134350775138987\n",
      "n_estimators = 20 depth = 10 итоговое smape: 11.175184267103432\n",
      "n_estimators = 30 depth = 1 итоговое smape: 9.137704291295721\n",
      "n_estimators = 30 depth = 2 итоговое smape: 9.876845084216413\n",
      "n_estimators = 30 depth = 3 итоговое smape: 9.733763997900578\n",
      "n_estimators = 30 depth = 4 итоговое smape: 9.90510193770979\n",
      "n_estimators = 30 depth = 5 итоговое smape: 9.968787290665128\n",
      "n_estimators = 30 depth = 6 итоговое smape: 10.19969797807331\n",
      "n_estimators = 30 depth = 7 итоговое smape: 10.564167435041815\n",
      "n_estimators = 30 depth = 8 итоговое smape: 10.631120746965275\n",
      "n_estimators = 30 depth = 9 итоговое smape: 10.904751978958643\n",
      "n_estimators = 30 depth = 10 итоговое smape: 10.90691289849551\n",
      "n_estimators = 40 depth = 1 итоговое smape: 9.142153309829737\n",
      "n_estimators = 40 depth = 2 итоговое smape: 9.879891629861154\n",
      "n_estimators = 40 depth = 3 итоговое smape: 9.712681910888286\n",
      "n_estimators = 40 depth = 4 итоговое smape: 9.898371984694357\n",
      "n_estimators = 40 depth = 5 итоговое smape: 9.878706854222333\n",
      "n_estimators = 40 depth = 6 итоговое smape: 10.132275494926063\n",
      "n_estimators = 40 depth = 7 итоговое smape: 10.439471498361783\n",
      "n_estimators = 40 depth = 8 итоговое smape: 10.593765994460917\n",
      "n_estimators = 40 depth = 9 итоговое smape: 10.825690364536548\n",
      "n_estimators = 40 depth = 10 итоговое smape: 10.84344232905892\n",
      "n_estimators = 50 depth = 1 итоговое smape: 9.14339757087734\n",
      "n_estimators = 50 depth = 2 итоговое smape: 9.837679379363816\n",
      "n_estimators = 50 depth = 3 итоговое smape: 9.694993572342144\n",
      "n_estimators = 50 depth = 4 итоговое smape: 9.87028746888507\n",
      "n_estimators = 50 depth = 5 итоговое smape: 9.905470727254079\n",
      "n_estimators = 50 depth = 6 итоговое smape: 10.106787945622854\n",
      "n_estimators = 50 depth = 7 итоговое smape: 10.401703024254116\n",
      "n_estimators = 50 depth = 8 итоговое smape: 10.591855728926136\n",
      "n_estimators = 50 depth = 9 итоговое smape: 10.81229138521255\n",
      "n_estimators = 50 depth = 10 итоговое smape: 10.843870041833988\n"
     ]
    }
   ],
   "source": [
    "print('случайный лес')\n",
    "for estimators in range(10, 51, 10):\n",
    "    for depth in range(1,11):\n",
    "        model2 = RandomForestRegressor(n_estimators=estimators, max_depth=depth, random_state=12345)\n",
    "        rougher_predict_forest= cross_val_predict(model2, features_train, target_train_rougher, cv=5)\n",
    "        final_predict_forest= cross_val_predict(model2, features_train, target_train_final, cv=5)\n",
    "        smape_rougher_forest = smape(target_train_rougher,rougher_predict_forest)\n",
    "        smape_final_forest = smape(target_train_final,final_predict_forest)\n",
    "        final_smape_forest = 0.25 * smape_rougher_forest + 0.75 * smape_final_forest\n",
    "        print(\"n_estimators =\", estimators,\"depth =\", depth, \"итоговое smape:\",final_smape_forest)"
   ]
  },
  {
   "cell_type": "markdown",
   "metadata": {},
   "source": [
    "Лучшее sMAPE для случайного леса 9.129380756607837"
   ]
  },
  {
   "cell_type": "code",
   "execution_count": 20,
   "metadata": {},
   "outputs": [
    {
     "name": "stdout",
     "output_type": "stream",
     "text": [
      "логистическая регрессия\n",
      "итоговое smape: 10.261925732535342\n"
     ]
    }
   ],
   "source": [
    "print('логистическая регрессия')\n",
    "model3 = LinearRegression()\n",
    "rougher_predict_regr= cross_val_predict(model3, features_train, target_train_rougher, cv=5)\n",
    "final_predict_regr= cross_val_predict(model3, features_train, target_train_final, cv=5)\n",
    "smape_rougher_regr = smape(target_train_rougher,rougher_predict_regr)\n",
    "smape_final_regr = smape(target_train_final,final_predict_regr)\n",
    "final_smape_regr = 0.25 * smape_rougher_regr + 0.75 * smape_final_regr\n",
    "print(\"итоговое smape:\",final_smape_regr)\n"
   ]
  },
  {
   "cell_type": "markdown",
   "metadata": {},
   "source": [
    "Лучшее sMAPE для логистической регрессии 10.261925732535342"
   ]
  },
  {
   "cell_type": "markdown",
   "metadata": {},
   "source": [
    "Итоговой моделью будет случайный лес с параметрами: n_estimators = 10 depth = 1"
   ]
  },
  {
   "cell_type": "code",
   "execution_count": 21,
   "metadata": {},
   "outputs": [
    {
     "name": "stdout",
     "output_type": "stream",
     "text": [
      "итоговое smape: 8.796857393500435\n"
     ]
    }
   ],
   "source": [
    "features_test = test_data.drop(['rougher.output.recovery', 'final.output.recovery', 'feed_sum'], axis=1)\n",
    "target_test_rougher = test_data['rougher.output.recovery']\n",
    "target_test_final = test_data['final.output.recovery']\n",
    "\n",
    "\n",
    "model=RandomForestRegressor(n_estimators=10, max_depth=1, random_state=12345)\n",
    "model.fit(features_train, target_train_rougher)\n",
    "test_predictions_rougher = model.predict(features_test)\n",
    "smape_rougher_final = smape(target_test_rougher,test_predictions_rougher)\n",
    "model.fit(features_train, target_train_final)\n",
    "test_predictions_final = model.predict(features_test)\n",
    "smape_final_final = smape(target_test_final,test_predictions_final)\n",
    "final_smape = 0.25 * smape_rougher_final + 0.75 * smape_final_final\n",
    "print(\"итоговое smape:\",final_smape)"
   ]
  },
  {
   "cell_type": "markdown",
   "metadata": {},
   "source": [
    "Итоговое smape выбранной модели 8.796857393500435. Проверим модель на адекватность(сравним с моделью, где все значение средние)."
   ]
  },
  {
   "cell_type": "markdown",
   "metadata": {},
   "source": [
    "<font color='green'>Прекрасная работа, молодец. </font>\n"
   ]
  },
  {
   "cell_type": "code",
   "execution_count": 22,
   "metadata": {},
   "outputs": [
    {
     "name": "stdout",
     "output_type": "stream",
     "text": [
      "итоговое smape: 7.913886651005389\n"
     ]
    }
   ],
   "source": [
    "dummy_regr = DummyRegressor(strategy=\"mean\")\n",
    "\n",
    "dummy_regr.fit(features_train, target_train_rougher)\n",
    "dummy_predictions_rougher = dummy_regr.predict(features_test)\n",
    "smape_rougher_dummy = smape(target_test_rougher,dummy_predictions_rougher)\n",
    "dummy_regr.fit(features_train, target_train_final)\n",
    "dummy_predictions_final = dummy_regr.predict(features_test)\n",
    "smape_final_dummy = smape(target_test_final,dummy_predictions_final)\n",
    "final_smape_dummy = 0.25 * smape_rougher_dummy + 0.75 * smape_final_dummy\n",
    "print(\"итоговое smape:\",final_smape_dummy)"
   ]
  },
  {
   "cell_type": "markdown",
   "metadata": {},
   "source": [
    "Итоговое smape дамми-модели меньше smape нашей выбранной модели."
   ]
  },
  {
   "cell_type": "markdown",
   "metadata": {},
   "source": [
    "## Вывод. Модели машинного обучения для данной задачи некорректны, качество предсказаний ниже, чем при использовании модели, которая всегда возвращает среднее значение."
   ]
  }
 ],
 "metadata": {
  "kernelspec": {
   "display_name": "Python 3",
   "language": "python",
   "name": "python3"
  },
  "language_info": {
   "codemirror_mode": {
    "name": "ipython",
    "version": 3
   },
   "file_extension": ".py",
   "mimetype": "text/x-python",
   "name": "python",
   "nbconvert_exporter": "python",
   "pygments_lexer": "ipython3",
   "version": "3.7.4"
  }
 },
 "nbformat": 4,
 "nbformat_minor": 2
}
