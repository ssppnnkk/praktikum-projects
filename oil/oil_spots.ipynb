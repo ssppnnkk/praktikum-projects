{
 "cells": [
  {
   "cell_type": "markdown",
   "metadata": {},
   "source": [
    "# 1. Загрузка и подготовка данных"
   ]
  },
  {
   "cell_type": "markdown",
   "metadata": {},
   "source": [
    "## Данные\n",
    "\n",
    "В наличии были следующие данные о месторождениях:\n",
    "\n",
    "- признаки точек \n",
    "- объём запасов в скважине"
   ]
  },
  {
   "cell_type": "code",
   "execution_count": 1,
   "metadata": {},
   "outputs": [],
   "source": [
    "import pandas as pd\n",
    "import numpy as np\n",
    "from sklearn.metrics import mean_squared_error\n",
    "from sklearn.linear_model import LinearRegression\n",
    "from sklearn.model_selection import train_test_split\n",
    "from scipy import stats as st\n",
    "\n",
    "# данные\n",
    "region0 = pd.read_csv('/datasets/geo_data_0.csv')\n",
    "region1 = pd.read_csv('/datasets/geo_data_1.csv')\n",
    "region2 = pd.read_csv('/datasets/geo_data_2.csv')\n",
    "\n",
    "# дропнем Id, тк по нему нельзя рассчитать\n",
    "region0 = region0.drop(['id'], axis = 1)\n",
    "region1 = region1.drop(['id'], axis = 1)\n",
    "region2 = region2.drop(['id'], axis = 1)\n",
    "\n",
    "# переведем столбец product в баррели(умножим на 1000, тк изначально значения в тыс.барр.)\n",
    "region0['product']=region0['product']*1000\n",
    "region1['product']=region1['product']*1000\n",
    "region2['product']=region2['product']*1000\n",
    "\n",
    "\n",
    "\n"
   ]
  },
  {
   "cell_type": "markdown",
   "metadata": {},
   "source": [
    "Данные загружены. Убран столбец id, столбец product переведен в баррели( умножен на 1000)."
   ]
  },
  {
   "cell_type": "markdown",
   "metadata": {},
   "source": [
    "# 2. Обучение и проверка модели"
   ]
  },
  {
   "cell_type": "code",
   "execution_count": 2,
   "metadata": {},
   "outputs": [],
   "source": [
    "def target_and_pred(data):\n",
    "    data_train, data_valid = train_test_split(data, test_size=0.25, random_state=12345)\n",
    "    features_train = data_train.drop(['product'], axis=1)\n",
    "    target_train = data_train['product']\n",
    "    features_valid = data_valid.drop(['product'], axis=1)\n",
    "    target_valid = data_valid['product']\n",
    "    model = LinearRegression()\n",
    "    model.fit(features_train, target_train)\n",
    "    predicted_valid = model.predict(features_valid)\n",
    "    return target_valid, predicted_valid\n",
    "    \n",
    "\n",
    "target0, predicted0 = target_and_pred(region0)\n",
    "target1, predicted1 = target_and_pred(region1)\n",
    "target2, predicted2 = target_and_pred(region2) \n",
    "\n",
    "\n",
    "# переведём из numpy array в Series\n",
    "predicted0=pd.Series(predicted0)\n",
    "predicted1=pd.Series(predicted1)\n",
    "predicted2=pd.Series(predicted2)"
   ]
  },
  {
   "cell_type": "markdown",
   "metadata": {},
   "source": [
    "Функция для выделения целевого признака и предказаний из валидационных выборок. Для дальнейшего удобства предсказания переведены в Series."
   ]
  },
  {
   "cell_type": "code",
   "execution_count": 3,
   "metadata": {},
   "outputs": [],
   "source": [
    "def mean_and_rmse(target, predicted):   \n",
    "    mse = mean_squared_error(target, predicted)\n",
    "    mean_product = target.mean()\n",
    "    rmse = mse ** 0.5\n",
    "    return mean_product, rmse"
   ]
  },
  {
   "cell_type": "markdown",
   "metadata": {},
   "source": [
    "Функция для оценки среднего запаса сырья и RMSE."
   ]
  },
  {
   "cell_type": "code",
   "execution_count": 4,
   "metadata": {},
   "outputs": [
    {
     "name": "stdout",
     "output_type": "stream",
     "text": [
      "Средний запас сырья в регионе 0: 92078.59674082928 Rmse в регионе 0: 37579.421715081306\n",
      "Средний запас сырья в регионе 1: 68723.13602435999 Rmse в регионе 1: 893.0992867756171\n",
      "Средний запас сырья в регионе 2: 94884.23280885436 Rmse в регионе 2: 40029.70873393434\n"
     ]
    }
   ],
   "source": [
    "mean_product0, rmse0 = mean_and_rmse(target0, predicted0)\n",
    "mean_product1, rmse1 = mean_and_rmse(target1, predicted1)\n",
    "mean_product2, rmse2 = mean_and_rmse(target2, predicted2)\n",
    "print('Средний запас сырья в регионе 0:',mean_product0, 'Rmse в регионе 0:',rmse0)\n",
    "print('Средний запас сырья в регионе 1:',mean_product1, 'Rmse в регионе 1:',rmse1)\n",
    "print('Средний запас сырья в регионе 2:',mean_product2, 'Rmse в регионе 2:',rmse2)"
   ]
  },
  {
   "cell_type": "markdown",
   "metadata": {},
   "source": [
    "## Вывод.  У региона1 : наименьший средний запас сырья, но и наименьший разброс -> значит там не будет очень больших, и очень маленьких запасов. Предварительно выбираем между 0 и 2, но нужен дальнейший анализ."
   ]
  },
  {
   "cell_type": "markdown",
   "metadata": {},
   "source": [
    "# 3. Подготовка к расчёту прибыли"
   ]
  },
  {
   "cell_type": "code",
   "execution_count": 5,
   "metadata": {},
   "outputs": [],
   "source": [
    "#константы\n",
    "spots = 500 # кол-во точек для разведки\n",
    "budget = 10000000000 # общий бюджет на регион\n",
    "drill_cost = 50000000 # стоимость бурения 1 скважины\n",
    "barrel_cost = 4500 # цена за 1 баррель\n",
    "risk_threshold = 0.025 # граница риска\n"
   ]
  },
  {
   "cell_type": "markdown",
   "metadata": {},
   "source": [
    "Константы загружены."
   ]
  },
  {
   "cell_type": "code",
   "execution_count": 6,
   "metadata": {},
   "outputs": [
    {
     "name": "stdout",
     "output_type": "stream",
     "text": [
      "11111.111111111111\n"
     ]
    }
   ],
   "source": [
    "#cредний объем сырья - объем, при котором операционная прибыль равна 0\n",
    "min_mean_product = drill_cost / barrel_cost\n",
    "print(min_mean_product)\n"
   ]
  },
  {
   "cell_type": "markdown",
   "metadata": {},
   "source": [
    "У всех регионов средний запас сырья больше минимального для безубыточной добычи. На этом этапе никакой регион исключить нельзя. Проводим дальнейший анализ."
   ]
  },
  {
   "cell_type": "code",
   "execution_count": 7,
   "metadata": {},
   "outputs": [],
   "source": [
    "def revenue(target,probs,count):\n",
    "    probs_sorted = probs.sort_values(ascending=False) # сортируем предсказания\n",
    "    selected = target[probs_sorted.index][:count] # выбираем определенное количество \n",
    "    return barrel_cost * selected.sum() # умножаем количество на цену барреля \n"
   ]
  },
  {
   "cell_type": "markdown",
   "metadata": {},
   "source": [
    "Функция для подсчёта прибыли. \n"
   ]
  },
  {
   "cell_type": "markdown",
   "metadata": {},
   "source": [
    "# 4. Расчёт прибыли и рисков "
   ]
  },
  {
   "cell_type": "code",
   "execution_count": 8,
   "metadata": {},
   "outputs": [],
   "source": [
    "state = np.random.RandomState(12345) # состояние генератора сл.чисел\n",
    " \n",
    "def ci_and_mean(target,probs):   \n",
    "    values = []\n",
    "    for i in range(1000):\n",
    "        target_subsample = target.sample(n=spots, replace=True, random_state=state)\n",
    "        probs_subsample = probs[target_subsample.index]\n",
    "        values.append(revenue(target_subsample,probs_subsample,200)) # 200 = budget/drill_cost\n",
    "        \n",
    "    values = pd.Series(values)\n",
    "    mean = values.mean()\n",
    "    confidence_interval =  st.t.interval(0.95, len(values)-1, values.mean(),values.sem())\n",
    "    confidence_interval = (round(confidence_interval[0]/1000000000, 3), round(confidence_interval[1]/1000000000, 3))\n",
    "    values_best = values.sort_values(ascending=False).head(200) # выберем 200 лучших месторождений\n",
    "    values_worst=values_best.where(values_best < drill_cost).dropna() # из них выберем точки, прибыль с которых меньше стоимости бурения\n",
    "    risk = values_worst.size / values_best.size * 100 # подсчитаем долю \"плохих\" месторождений \n",
    "    \n",
    "    print('Средняя прибыль:', round(mean/1000000000, 3),'млрд. руб.')\n",
    "    print('Доверительный интервал:', confidence_interval,'млрд. руб.')\n",
    "    print('Риск:', risk, '%')\n"
   ]
  },
  {
   "cell_type": "markdown",
   "metadata": {},
   "source": [
    "Функция для подсчёта средней прибыли, 95% доверительного интервала и риска."
   ]
  },
  {
   "cell_type": "code",
   "execution_count": 9,
   "metadata": {},
   "outputs": [
    {
     "name": "stderr",
     "output_type": "stream",
     "text": [
      "/opt/conda/lib/python3.7/site-packages/pandas/core/series.py:1143: FutureWarning: \n",
      "Passing list-likes to .loc or [] with any missing label will raise\n",
      "KeyError in the future, you can use .reindex() as an alternative.\n",
      "\n",
      "See the documentation here:\n",
      "https://pandas.pydata.org/pandas-docs/stable/user_guide/indexing.html#deprecate-loc-reindex-listlike\n",
      "  return self.loc[key]\n"
     ]
    },
    {
     "name": "stdout",
     "output_type": "stream",
     "text": [
      "Средняя прибыль: 82.729 млрд. руб.\n",
      "Доверительный интервал: (82.549, 82.909) млрд. руб.\n",
      "Риск: 0.0 %\n"
     ]
    }
   ],
   "source": [
    "ci_and_mean(target0, predicted0)"
   ]
  },
  {
   "cell_type": "code",
   "execution_count": 10,
   "metadata": {},
   "outputs": [
    {
     "name": "stdout",
     "output_type": "stream",
     "text": [
      "Средняя прибыль: 61.885 млрд. руб.\n",
      "Доверительный интервал: (61.701, 62.069) млрд. руб.\n",
      "Риск: 0.0 %\n"
     ]
    }
   ],
   "source": [
    "ci_and_mean(target1, predicted1)"
   ]
  },
  {
   "cell_type": "code",
   "execution_count": 11,
   "metadata": {},
   "outputs": [
    {
     "name": "stdout",
     "output_type": "stream",
     "text": [
      "Средняя прибыль: 85.196 млрд. руб.\n",
      "Доверительный интервал: (85.011, 85.38) млрд. руб.\n",
      "Риск: 0.0 %\n"
     ]
    }
   ],
   "source": [
    "ci_and_mean(target2, predicted2)\n"
   ]
  },
  {
   "cell_type": "markdown",
   "metadata": {},
   "source": [
    "## Вывод: Доля месторождений, где прибыль меньше стоимости бурения, равна 0 -> все регионы безубыточны, рисков нет. Тк мы выбираем между регионом0 и регионом2 - выбираем регион 2. У него больше средняя прибыль(85 против 83 млрд. руб.) и границы 95% доверительного интервала тоже больше.\n"
   ]
  },
  {
   "cell_type": "markdown",
   "metadata": {},
   "source": [
    "# Общий вывод. Целевой регион - регион2. У него самый большой средний запас сырья на месторождение(94884 баррелей), больше средняя прибыль с месторождения(85 млрд. руб.)."
   ]
  },
  {
   "cell_type": "code",
   "execution_count": null,
   "metadata": {},
   "outputs": [],
   "source": []
  }
 ],
 "metadata": {
  "kernelspec": {
   "display_name": "Python 3",
   "language": "python",
   "name": "python3"
  },
  "language_info": {
   "codemirror_mode": {
    "name": "ipython",
    "version": 3
   },
   "file_extension": ".py",
   "mimetype": "text/x-python",
   "name": "python",
   "nbconvert_exporter": "python",
   "pygments_lexer": "ipython3",
   "version": "3.7.4"
  }
 },
 "nbformat": 4,
 "nbformat_minor": 2
}
