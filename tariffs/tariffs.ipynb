{
 "cells": [
  {
   "cell_type": "markdown",
   "metadata": {},
   "source": [
    "# Рекомендация тарифов"
   ]
  },
  {
   "cell_type": "markdown",
   "metadata": {},
   "source": [
    "## 1. Изучение данных"
   ]
  },
  {
   "cell_type": "code",
   "execution_count": 1,
   "metadata": {},
   "outputs": [
    {
     "data": {
      "text/html": [
       "<div>\n",
       "<style scoped>\n",
       "    .dataframe tbody tr th:only-of-type {\n",
       "        vertical-align: middle;\n",
       "    }\n",
       "\n",
       "    .dataframe tbody tr th {\n",
       "        vertical-align: top;\n",
       "    }\n",
       "\n",
       "    .dataframe thead th {\n",
       "        text-align: right;\n",
       "    }\n",
       "</style>\n",
       "<table border=\"1\" class=\"dataframe\">\n",
       "  <thead>\n",
       "    <tr style=\"text-align: right;\">\n",
       "      <th></th>\n",
       "      <th>calls</th>\n",
       "      <th>minutes</th>\n",
       "      <th>messages</th>\n",
       "      <th>mb_used</th>\n",
       "      <th>is_ultra</th>\n",
       "    </tr>\n",
       "  </thead>\n",
       "  <tbody>\n",
       "    <tr>\n",
       "      <td>0</td>\n",
       "      <td>40.0</td>\n",
       "      <td>311.90</td>\n",
       "      <td>83.0</td>\n",
       "      <td>19915.42</td>\n",
       "      <td>0</td>\n",
       "    </tr>\n",
       "    <tr>\n",
       "      <td>1</td>\n",
       "      <td>85.0</td>\n",
       "      <td>516.75</td>\n",
       "      <td>56.0</td>\n",
       "      <td>22696.96</td>\n",
       "      <td>0</td>\n",
       "    </tr>\n",
       "    <tr>\n",
       "      <td>2</td>\n",
       "      <td>77.0</td>\n",
       "      <td>467.66</td>\n",
       "      <td>86.0</td>\n",
       "      <td>21060.45</td>\n",
       "      <td>0</td>\n",
       "    </tr>\n",
       "    <tr>\n",
       "      <td>3</td>\n",
       "      <td>106.0</td>\n",
       "      <td>745.53</td>\n",
       "      <td>81.0</td>\n",
       "      <td>8437.39</td>\n",
       "      <td>1</td>\n",
       "    </tr>\n",
       "    <tr>\n",
       "      <td>4</td>\n",
       "      <td>66.0</td>\n",
       "      <td>418.74</td>\n",
       "      <td>1.0</td>\n",
       "      <td>14502.75</td>\n",
       "      <td>0</td>\n",
       "    </tr>\n",
       "    <tr>\n",
       "      <td>...</td>\n",
       "      <td>...</td>\n",
       "      <td>...</td>\n",
       "      <td>...</td>\n",
       "      <td>...</td>\n",
       "      <td>...</td>\n",
       "    </tr>\n",
       "    <tr>\n",
       "      <td>3209</td>\n",
       "      <td>122.0</td>\n",
       "      <td>910.98</td>\n",
       "      <td>20.0</td>\n",
       "      <td>35124.90</td>\n",
       "      <td>1</td>\n",
       "    </tr>\n",
       "    <tr>\n",
       "      <td>3210</td>\n",
       "      <td>25.0</td>\n",
       "      <td>190.36</td>\n",
       "      <td>0.0</td>\n",
       "      <td>3275.61</td>\n",
       "      <td>0</td>\n",
       "    </tr>\n",
       "    <tr>\n",
       "      <td>3211</td>\n",
       "      <td>97.0</td>\n",
       "      <td>634.44</td>\n",
       "      <td>70.0</td>\n",
       "      <td>13974.06</td>\n",
       "      <td>0</td>\n",
       "    </tr>\n",
       "    <tr>\n",
       "      <td>3212</td>\n",
       "      <td>64.0</td>\n",
       "      <td>462.32</td>\n",
       "      <td>90.0</td>\n",
       "      <td>31239.78</td>\n",
       "      <td>0</td>\n",
       "    </tr>\n",
       "    <tr>\n",
       "      <td>3213</td>\n",
       "      <td>80.0</td>\n",
       "      <td>566.09</td>\n",
       "      <td>6.0</td>\n",
       "      <td>29480.52</td>\n",
       "      <td>1</td>\n",
       "    </tr>\n",
       "  </tbody>\n",
       "</table>\n",
       "<p>3214 rows × 5 columns</p>\n",
       "</div>"
      ],
      "text/plain": [
       "      calls  minutes  messages   mb_used  is_ultra\n",
       "0      40.0   311.90      83.0  19915.42         0\n",
       "1      85.0   516.75      56.0  22696.96         0\n",
       "2      77.0   467.66      86.0  21060.45         0\n",
       "3     106.0   745.53      81.0   8437.39         1\n",
       "4      66.0   418.74       1.0  14502.75         0\n",
       "...     ...      ...       ...       ...       ...\n",
       "3209  122.0   910.98      20.0  35124.90         1\n",
       "3210   25.0   190.36       0.0   3275.61         0\n",
       "3211   97.0   634.44      70.0  13974.06         0\n",
       "3212   64.0   462.32      90.0  31239.78         0\n",
       "3213   80.0   566.09       6.0  29480.52         1\n",
       "\n",
       "[3214 rows x 5 columns]"
      ]
     },
     "execution_count": 1,
     "metadata": {},
     "output_type": "execute_result"
    }
   ],
   "source": [
    "import pandas as pd\n",
    "from sklearn.ensemble import RandomForestClassifier\n",
    "from sklearn.tree import DecisionTreeClassifier\n",
    "from sklearn.linear_model import LogisticRegression\n",
    "from sklearn.metrics import accuracy_score\n",
    "from sklearn.model_selection import train_test_split\n",
    "from sklearn.metrics import f1_score\n",
    "from sklearn.dummy import DummyClassifier\n",
    "\n",
    "\n",
    "data = pd.read_csv('/datasets/users_behavior.csv')\n",
    "data\n",
    "\n"
   ]
  },
  {
   "cell_type": "markdown",
   "metadata": {},
   "source": [
    "Данные открыты, целевой признак - столбец is_ultra."
   ]
  },
  {
   "cell_type": "markdown",
   "metadata": {},
   "source": [
    "## 2. Выборки"
   ]
  },
  {
   "cell_type": "code",
   "execution_count": 2,
   "metadata": {},
   "outputs": [],
   "source": [
    "#delim na viborki\n",
    "data_valid_train, data_test = train_test_split(data, test_size=0.2, random_state=12345)\n",
    "data_train, data_valid = train_test_split(data_valid_train, test_size=0.25, random_state=12345)\n",
    "\n",
    "\n",
    "\n",
    "# priznak i cel\n",
    "features_train = data_train.drop(['is_ultra'], axis=1)\n",
    "target_train = data_train['is_ultra']\n",
    "features_test = data_test.drop(['is_ultra'], axis=1)\n",
    "target_test = data_test['is_ultra']\n",
    "features_valid = data_valid.drop(['is_ultra'], axis=1)\n",
    "target_valid = data_valid['is_ultra']"
   ]
  },
  {
   "cell_type": "markdown",
   "metadata": {},
   "source": [
    "Данные разбиты на 3 части в пропорции 6:2:2 (обучающая, валидационная, тестовая).\n",
    "Заданы признаки и целевые признаки."
   ]
  },
  {
   "cell_type": "markdown",
   "metadata": {},
   "source": [
    "## 3. Модели"
   ]
  },
  {
   "cell_type": "code",
   "execution_count": 3,
   "metadata": {},
   "outputs": [
    {
     "name": "stdout",
     "output_type": "stream",
     "text": [
      "дерево решений\n",
      "max_depth = 1 accuracy: 0.7387247278382582\n",
      "max_depth = 2 accuracy: 0.7573872472783826\n",
      "max_depth = 3 accuracy: 0.7651632970451011\n",
      "max_depth = 4 accuracy: 0.7636080870917574\n",
      "max_depth = 5 accuracy: 0.7589424572317263\n",
      "max_depth = 6 accuracy: 0.7573872472783826\n",
      "\n",
      "случайный лес\n",
      "n_estimators = 10 depth = 1 accuracy: 0.7309486780715396\n",
      "n_estimators = 10 depth = 2 accuracy: 0.7636080870917574\n",
      "n_estimators = 10 depth = 3 accuracy: 0.7713841368584758\n",
      "n_estimators = 10 depth = 4 accuracy: 0.7776049766718507\n",
      "n_estimators = 10 depth = 5 accuracy: 0.7776049766718507\n",
      "n_estimators = 10 depth = 6 accuracy: 0.7853810264385692\n",
      "n_estimators = 10 depth = 7 accuracy: 0.7869362363919129\n",
      "n_estimators = 10 depth = 8 accuracy: 0.7853810264385692\n",
      "n_estimators = 10 depth = 9 accuracy: 0.7947122861586314\n",
      "n_estimators = 10 depth = 10 accuracy: 0.7900466562986003\n",
      "n_estimators = 20 depth = 1 accuracy: 0.7325038880248833\n",
      "n_estimators = 20 depth = 2 accuracy: 0.7620528771384136\n",
      "n_estimators = 20 depth = 3 accuracy: 0.7713841368584758\n",
      "n_estimators = 20 depth = 4 accuracy: 0.776049766718507\n",
      "n_estimators = 20 depth = 5 accuracy: 0.7791601866251944\n",
      "n_estimators = 20 depth = 6 accuracy: 0.7853810264385692\n",
      "n_estimators = 20 depth = 7 accuracy: 0.7853810264385692\n",
      "n_estimators = 20 depth = 8 accuracy: 0.7869362363919129\n",
      "n_estimators = 20 depth = 9 accuracy: 0.7916018662519441\n",
      "n_estimators = 20 depth = 10 accuracy: 0.7962674961119751\n",
      "n_estimators = 30 depth = 1 accuracy: 0.7387247278382582\n",
      "n_estimators = 30 depth = 2 accuracy: 0.76049766718507\n",
      "n_estimators = 30 depth = 3 accuracy: 0.7698289269051322\n",
      "n_estimators = 30 depth = 4 accuracy: 0.776049766718507\n",
      "n_estimators = 30 depth = 5 accuracy: 0.7791601866251944\n",
      "n_estimators = 30 depth = 6 accuracy: 0.7838258164852255\n",
      "n_estimators = 30 depth = 7 accuracy: 0.7853810264385692\n",
      "n_estimators = 30 depth = 8 accuracy: 0.7838258164852255\n",
      "n_estimators = 30 depth = 9 accuracy: 0.7916018662519441\n",
      "n_estimators = 30 depth = 10 accuracy: 0.7916018662519441\n",
      "n_estimators = 40 depth = 1 accuracy: 0.7387247278382582\n",
      "n_estimators = 40 depth = 2 accuracy: 0.7620528771384136\n",
      "n_estimators = 40 depth = 3 accuracy: 0.7713841368584758\n",
      "n_estimators = 40 depth = 4 accuracy: 0.7791601866251944\n",
      "n_estimators = 40 depth = 5 accuracy: 0.7807153965785381\n",
      "n_estimators = 40 depth = 6 accuracy: 0.7807153965785381\n",
      "n_estimators = 40 depth = 7 accuracy: 0.7838258164852255\n",
      "n_estimators = 40 depth = 8 accuracy: 0.7869362363919129\n",
      "n_estimators = 40 depth = 9 accuracy: 0.7900466562986003\n",
      "n_estimators = 40 depth = 10 accuracy: 0.7962674961119751\n",
      "n_estimators = 50 depth = 1 accuracy: 0.7465007776049767\n",
      "n_estimators = 50 depth = 2 accuracy: 0.76049766718507\n",
      "n_estimators = 50 depth = 3 accuracy: 0.7667185069984448\n",
      "n_estimators = 50 depth = 4 accuracy: 0.7744945567651633\n",
      "n_estimators = 50 depth = 5 accuracy: 0.7791601866251944\n",
      "n_estimators = 50 depth = 6 accuracy: 0.7807153965785381\n",
      "n_estimators = 50 depth = 7 accuracy: 0.7869362363919129\n",
      "n_estimators = 50 depth = 8 accuracy: 0.7869362363919129\n",
      "n_estimators = 50 depth = 9 accuracy: 0.7884914463452566\n",
      "n_estimators = 50 depth = 10 accuracy: 0.7978227060653188\n",
      "n_estimators = 60 depth = 1 accuracy: 0.7620528771384136\n",
      "n_estimators = 60 depth = 2 accuracy: 0.76049766718507\n",
      "n_estimators = 60 depth = 3 accuracy: 0.7713841368584758\n",
      "n_estimators = 60 depth = 4 accuracy: 0.7729393468118196\n",
      "n_estimators = 60 depth = 5 accuracy: 0.7776049766718507\n",
      "n_estimators = 60 depth = 6 accuracy: 0.7791601866251944\n",
      "n_estimators = 60 depth = 7 accuracy: 0.7869362363919129\n",
      "n_estimators = 60 depth = 8 accuracy: 0.7822706065318819\n",
      "n_estimators = 60 depth = 9 accuracy: 0.7869362363919129\n",
      "n_estimators = 60 depth = 10 accuracy: 0.7916018662519441\n",
      "n_estimators = 70 depth = 1 accuracy: 0.7620528771384136\n",
      "n_estimators = 70 depth = 2 accuracy: 0.76049766718507\n",
      "n_estimators = 70 depth = 3 accuracy: 0.7713841368584758\n",
      "n_estimators = 70 depth = 4 accuracy: 0.7713841368584758\n",
      "n_estimators = 70 depth = 5 accuracy: 0.7791601866251944\n",
      "n_estimators = 70 depth = 6 accuracy: 0.7807153965785381\n",
      "n_estimators = 70 depth = 7 accuracy: 0.7853810264385692\n",
      "n_estimators = 70 depth = 8 accuracy: 0.7838258164852255\n",
      "n_estimators = 70 depth = 9 accuracy: 0.7884914463452566\n",
      "n_estimators = 70 depth = 10 accuracy: 0.7962674961119751\n",
      "n_estimators = 80 depth = 1 accuracy: 0.7620528771384136\n",
      "n_estimators = 80 depth = 2 accuracy: 0.76049766718507\n",
      "n_estimators = 80 depth = 3 accuracy: 0.7682737169517885\n",
      "n_estimators = 80 depth = 4 accuracy: 0.7729393468118196\n",
      "n_estimators = 80 depth = 5 accuracy: 0.7807153965785381\n",
      "n_estimators = 80 depth = 6 accuracy: 0.7807153965785381\n",
      "n_estimators = 80 depth = 7 accuracy: 0.7838258164852255\n",
      "n_estimators = 80 depth = 8 accuracy: 0.7807153965785381\n",
      "n_estimators = 80 depth = 9 accuracy: 0.7884914463452566\n",
      "n_estimators = 80 depth = 10 accuracy: 0.7947122861586314\n",
      "n_estimators = 90 depth = 1 accuracy: 0.7620528771384136\n",
      "n_estimators = 90 depth = 2 accuracy: 0.76049766718507\n",
      "n_estimators = 90 depth = 3 accuracy: 0.7682737169517885\n",
      "n_estimators = 90 depth = 4 accuracy: 0.7713841368584758\n",
      "n_estimators = 90 depth = 5 accuracy: 0.7807153965785381\n",
      "n_estimators = 90 depth = 6 accuracy: 0.7791601866251944\n",
      "n_estimators = 90 depth = 7 accuracy: 0.7853810264385692\n",
      "n_estimators = 90 depth = 8 accuracy: 0.7807153965785381\n",
      "n_estimators = 90 depth = 9 accuracy: 0.7884914463452566\n",
      "n_estimators = 90 depth = 10 accuracy: 0.7931570762052877\n",
      "n_estimators = 100 depth = 1 accuracy: 0.7620528771384136\n",
      "n_estimators = 100 depth = 2 accuracy: 0.7620528771384136\n",
      "n_estimators = 100 depth = 3 accuracy: 0.7682737169517885\n",
      "n_estimators = 100 depth = 4 accuracy: 0.7729393468118196\n",
      "n_estimators = 100 depth = 5 accuracy: 0.7791601866251944\n",
      "n_estimators = 100 depth = 6 accuracy: 0.7791601866251944\n",
      "n_estimators = 100 depth = 7 accuracy: 0.7853810264385692\n",
      "n_estimators = 100 depth = 8 accuracy: 0.7822706065318819\n",
      "n_estimators = 100 depth = 9 accuracy: 0.7900466562986003\n",
      "n_estimators = 100 depth = 10 accuracy: 0.7962674961119751\n",
      "\n",
      "логистическая регрессия\n",
      "логистическая регрессия accuracy: 0.6967340590979783\n"
     ]
    },
    {
     "name": "stderr",
     "output_type": "stream",
     "text": [
      "/opt/conda/lib/python3.7/site-packages/sklearn/linear_model/logistic.py:432: FutureWarning: Default solver will be changed to 'lbfgs' in 0.22. Specify a solver to silence this warning.\n",
      "  FutureWarning)\n"
     ]
    }
   ],
   "source": [
    "# подбираем параметры разных моделей\n",
    "print('дерево решений')\n",
    "for i in range(1, 7):\n",
    "    model1 = DecisionTreeClassifier(random_state=12345, max_depth=i)\n",
    "    model1.fit(features_train, target_train)\n",
    "    train_predictions1 = model1.predict(features_valid)\n",
    "    print(\"max_depth =\", i, \"accuracy:\",accuracy_score(target_valid, train_predictions1))\n",
    "\n",
    "\n",
    "print()\n",
    "\n",
    "\n",
    "print('случайный лес')\n",
    "#for estimators in range(10, 101, 10):\n",
    "    #model2 = RandomForestClassifier(n_estimators=estimators, max_depth=10, random_state=12345)\n",
    "    #model2.fit(features_train, target_train)\n",
    "    #train_predictions2 = model2.predict(features_valid)\n",
    "    #print(\"n_estimators =\", estimators, \":\", accuracy_score(target_valid, train_predictions2))\n",
    "    \n",
    "    \n",
    "for estimators in range(10, 101, 10):\n",
    "    for depth in range(1,11,1):\n",
    "        model2 = RandomForestClassifier(n_estimators=estimators, max_depth=depth, random_state=12345)\n",
    "        model2.fit(features_train, target_train)\n",
    "        train_predictions2 = model2.predict(features_valid)\n",
    "        print(\"n_estimators =\", estimators,\"depth =\", depth, \"accuracy:\", accuracy_score(target_valid, train_predictions2))\n",
    "    \n",
    "    \n",
    "\n",
    "    \n",
    "print()  \n",
    "\n",
    "print('логистическая регрессия')\n",
    "model3 = LogisticRegression()\n",
    "model3.fit(features_train, target_train)\n",
    "train_predictions3 = model3.predict(features_valid)\n",
    "print('логистическая регрессия', \"accuracy:\", accuracy_score(target_valid, train_predictions3))\n",
    "\n",
    "    \n"
   ]
  },
  {
   "cell_type": "markdown",
   "metadata": {},
   "source": [
    "У дерева решение проверяли разные значения глубины.\n",
    "У дерева решений макс. accuracy 0,795 при глубине 3, дальше она снижается.\n",
    "\n",
    "У случайного леса проверяли разные значения количества деревьев. \n",
    "У случайного леса accuracy примерно на одном уровне, макс. 0,797 при количестве деревьев 50.\n",
    "У лог.регресии минимальная accuracy, 0,69.\n",
    "Тк самая высокая точность у леса - используем его.\n",
    "Конечная модель - лес с глубиной 10, кол-вом деревьев 50."
   ]
  },
  {
   "cell_type": "markdown",
   "metadata": {},
   "source": [
    "## 4. Проверка модели"
   ]
  },
  {
   "cell_type": "code",
   "execution_count": 4,
   "metadata": {},
   "outputs": [
    {
     "name": "stdout",
     "output_type": "stream",
     "text": [
      "0.7993779160186625\n"
     ]
    }
   ],
   "source": [
    "model = RandomForestClassifier(n_estimators=50, max_depth=10, random_state=12345)\n",
    "model.fit(features_train, target_train)\n",
    "test_predictions = model.predict(features_test)\n",
    "print(accuracy_score(target_test, test_predictions))"
   ]
  },
  {
   "cell_type": "markdown",
   "metadata": {},
   "source": [
    "accuracy итоговой модели на тестовой выборке 0,799 - успешно."
   ]
  },
  {
   "cell_type": "markdown",
   "metadata": {},
   "source": [
    "## 5. Проверка на адекватность"
   ]
  },
  {
   "cell_type": "code",
   "execution_count": 7,
   "metadata": {},
   "outputs": [
    {
     "name": "stdout",
     "output_type": "stream",
     "text": [
      "0.48055987558320373\n"
     ]
    }
   ],
   "source": [
    "#проверка со случайным результатом \n",
    "dummy_clf_uniform = DummyClassifier(strategy=\"uniform\")\n",
    "dummy_clf_uniform.fit(features_train, target_train)\n",
    "dummy_uni_pred = dummy_clf_uniform.predict(features_test)\n",
    "print(dummy_clf_uniform.score(target_test,dummy_uni_pred))\n",
    "\n"
   ]
  },
  {
   "cell_type": "markdown",
   "metadata": {},
   "source": [
    "Итоговая модель проверена на адекватность."
   ]
  }
 ],
 "metadata": {
  "kernelspec": {
   "display_name": "Python 3",
   "language": "python",
   "name": "python3"
  },
  "language_info": {
   "codemirror_mode": {
    "name": "ipython",
    "version": 3
   },
   "file_extension": ".py",
   "mimetype": "text/x-python",
   "name": "python",
   "nbconvert_exporter": "python",
   "pygments_lexer": "ipython3",
   "version": "3.7.4"
  }
 },
 "nbformat": 4,
 "nbformat_minor": 2
}
